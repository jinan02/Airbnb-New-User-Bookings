{
  "nbformat": 4,
  "nbformat_minor": 0,
  "metadata": {
    "colab": {
      "provenance": []
    },
    "kernelspec": {
      "name": "python3",
      "display_name": "Python 3"
    },
    "language_info": {
      "name": "python"
    }
  },
  "cells": [
    {
      "cell_type": "code",
      "execution_count": 170,
      "metadata": {
        "id": "ZoaILDJtWNi2"
      },
      "outputs": [],
      "source": [
        "#importing neccessary libraries\n",
        "import pandas as pd\n",
        "import numpy as np\n",
        "import matplotlib.pyplot as plt\n",
        "%matplotlib inline\n",
        "import seaborn as sns\n",
        "import datetime\n",
        "from sklearn.preprocessing import LabelEncoder\n",
        "from sklearn.model_selection import train_test_split\n",
        "from sklearn.linear_model import LinearRegression\n",
        "from sklearn.metrics import mean_squared_error, mean_absolute_error, precision_score, confusion_matrix, accuracy_score, f1_score, recall_score\n",
        "from sklearn import preprocessing\n",
        "from sklearn.ensemble import *\n",
        "from xgboost.sklearn import XGBClassifier\n",
        "import warnings\n",
        "warnings.filterwarnings('ignore')"
      ]
    },
    {
      "cell_type": "code",
      "source": [
        "train=pd.read_csv('train_users_2.csv')\n",
        "test=pd.read_csv('test_users.csv')\n"
      ],
      "metadata": {
        "id": "vgO7HX0UFtV8"
      },
      "execution_count": 171,
      "outputs": []
    },
    {
      "cell_type": "code",
      "source": [
        "print('The training data contains', train.shape[1], 'columns and', train.shape[0], ' rows.   While the test data contains',  test.shape[0], 'columns and', test.shape[1], '.')"
      ],
      "metadata": {
        "colab": {
          "base_uri": "https://localhost:8080/"
        },
        "id": "Ny3-z8qHGT3v",
        "outputId": "55c5222b-6954-45a1-a007-6c5bdb312819"
      },
      "execution_count": 172,
      "outputs": [
        {
          "output_type": "stream",
          "name": "stdout",
          "text": [
            "The training data contains 16 columns and 213451  rows.   While the test data contains 62096 columns and 15 .\n"
          ]
        }
      ]
    },
    {
      "cell_type": "code",
      "source": [
        "train.head()"
      ],
      "metadata": {
        "colab": {
          "base_uri": "https://localhost:8080/",
          "height": 305
        },
        "id": "lmEY4ILZLE75",
        "outputId": "59a2b1aa-8980-4d66-db2e-ac4aed04270a"
      },
      "execution_count": 173,
      "outputs": [
        {
          "output_type": "execute_result",
          "data": {
            "text/plain": [
              "           id date_account_created  timestamp_first_active date_first_booking  \\\n",
              "0  gxn3p5htnn           2010-06-28          20090319043255                NaN   \n",
              "1  820tgsjxq7           2011-05-25          20090523174809                NaN   \n",
              "2  4ft3gnwmtx           2010-09-28          20090609231247         2010-08-02   \n",
              "3  bjjt8pjhuk           2011-12-05          20091031060129         2012-09-08   \n",
              "4  87mebub9p4           2010-09-14          20091208061105         2010-02-18   \n",
              "\n",
              "      gender   age signup_method  signup_flow language affiliate_channel  \\\n",
              "0  -unknown-   NaN      facebook            0       en            direct   \n",
              "1       MALE  38.0      facebook            0       en               seo   \n",
              "2     FEMALE  56.0         basic            3       en            direct   \n",
              "3     FEMALE  42.0      facebook            0       en            direct   \n",
              "4  -unknown-  41.0         basic            0       en            direct   \n",
              "\n",
              "  affiliate_provider first_affiliate_tracked signup_app first_device_type  \\\n",
              "0             direct               untracked        Web       Mac Desktop   \n",
              "1             google               untracked        Web       Mac Desktop   \n",
              "2             direct               untracked        Web   Windows Desktop   \n",
              "3             direct               untracked        Web       Mac Desktop   \n",
              "4             direct               untracked        Web       Mac Desktop   \n",
              "\n",
              "  first_browser country_destination  \n",
              "0        Chrome                 NDF  \n",
              "1        Chrome                 NDF  \n",
              "2            IE                  US  \n",
              "3       Firefox               other  \n",
              "4        Chrome                  US  "
            ],
            "text/html": [
              "\n",
              "  <div id=\"df-554d78fa-9280-41da-b36f-75010d5413cb\">\n",
              "    <div class=\"colab-df-container\">\n",
              "      <div>\n",
              "<style scoped>\n",
              "    .dataframe tbody tr th:only-of-type {\n",
              "        vertical-align: middle;\n",
              "    }\n",
              "\n",
              "    .dataframe tbody tr th {\n",
              "        vertical-align: top;\n",
              "    }\n",
              "\n",
              "    .dataframe thead th {\n",
              "        text-align: right;\n",
              "    }\n",
              "</style>\n",
              "<table border=\"1\" class=\"dataframe\">\n",
              "  <thead>\n",
              "    <tr style=\"text-align: right;\">\n",
              "      <th></th>\n",
              "      <th>id</th>\n",
              "      <th>date_account_created</th>\n",
              "      <th>timestamp_first_active</th>\n",
              "      <th>date_first_booking</th>\n",
              "      <th>gender</th>\n",
              "      <th>age</th>\n",
              "      <th>signup_method</th>\n",
              "      <th>signup_flow</th>\n",
              "      <th>language</th>\n",
              "      <th>affiliate_channel</th>\n",
              "      <th>affiliate_provider</th>\n",
              "      <th>first_affiliate_tracked</th>\n",
              "      <th>signup_app</th>\n",
              "      <th>first_device_type</th>\n",
              "      <th>first_browser</th>\n",
              "      <th>country_destination</th>\n",
              "    </tr>\n",
              "  </thead>\n",
              "  <tbody>\n",
              "    <tr>\n",
              "      <th>0</th>\n",
              "      <td>gxn3p5htnn</td>\n",
              "      <td>2010-06-28</td>\n",
              "      <td>20090319043255</td>\n",
              "      <td>NaN</td>\n",
              "      <td>-unknown-</td>\n",
              "      <td>NaN</td>\n",
              "      <td>facebook</td>\n",
              "      <td>0</td>\n",
              "      <td>en</td>\n",
              "      <td>direct</td>\n",
              "      <td>direct</td>\n",
              "      <td>untracked</td>\n",
              "      <td>Web</td>\n",
              "      <td>Mac Desktop</td>\n",
              "      <td>Chrome</td>\n",
              "      <td>NDF</td>\n",
              "    </tr>\n",
              "    <tr>\n",
              "      <th>1</th>\n",
              "      <td>820tgsjxq7</td>\n",
              "      <td>2011-05-25</td>\n",
              "      <td>20090523174809</td>\n",
              "      <td>NaN</td>\n",
              "      <td>MALE</td>\n",
              "      <td>38.0</td>\n",
              "      <td>facebook</td>\n",
              "      <td>0</td>\n",
              "      <td>en</td>\n",
              "      <td>seo</td>\n",
              "      <td>google</td>\n",
              "      <td>untracked</td>\n",
              "      <td>Web</td>\n",
              "      <td>Mac Desktop</td>\n",
              "      <td>Chrome</td>\n",
              "      <td>NDF</td>\n",
              "    </tr>\n",
              "    <tr>\n",
              "      <th>2</th>\n",
              "      <td>4ft3gnwmtx</td>\n",
              "      <td>2010-09-28</td>\n",
              "      <td>20090609231247</td>\n",
              "      <td>2010-08-02</td>\n",
              "      <td>FEMALE</td>\n",
              "      <td>56.0</td>\n",
              "      <td>basic</td>\n",
              "      <td>3</td>\n",
              "      <td>en</td>\n",
              "      <td>direct</td>\n",
              "      <td>direct</td>\n",
              "      <td>untracked</td>\n",
              "      <td>Web</td>\n",
              "      <td>Windows Desktop</td>\n",
              "      <td>IE</td>\n",
              "      <td>US</td>\n",
              "    </tr>\n",
              "    <tr>\n",
              "      <th>3</th>\n",
              "      <td>bjjt8pjhuk</td>\n",
              "      <td>2011-12-05</td>\n",
              "      <td>20091031060129</td>\n",
              "      <td>2012-09-08</td>\n",
              "      <td>FEMALE</td>\n",
              "      <td>42.0</td>\n",
              "      <td>facebook</td>\n",
              "      <td>0</td>\n",
              "      <td>en</td>\n",
              "      <td>direct</td>\n",
              "      <td>direct</td>\n",
              "      <td>untracked</td>\n",
              "      <td>Web</td>\n",
              "      <td>Mac Desktop</td>\n",
              "      <td>Firefox</td>\n",
              "      <td>other</td>\n",
              "    </tr>\n",
              "    <tr>\n",
              "      <th>4</th>\n",
              "      <td>87mebub9p4</td>\n",
              "      <td>2010-09-14</td>\n",
              "      <td>20091208061105</td>\n",
              "      <td>2010-02-18</td>\n",
              "      <td>-unknown-</td>\n",
              "      <td>41.0</td>\n",
              "      <td>basic</td>\n",
              "      <td>0</td>\n",
              "      <td>en</td>\n",
              "      <td>direct</td>\n",
              "      <td>direct</td>\n",
              "      <td>untracked</td>\n",
              "      <td>Web</td>\n",
              "      <td>Mac Desktop</td>\n",
              "      <td>Chrome</td>\n",
              "      <td>US</td>\n",
              "    </tr>\n",
              "  </tbody>\n",
              "</table>\n",
              "</div>\n",
              "      <button class=\"colab-df-convert\" onclick=\"convertToInteractive('df-554d78fa-9280-41da-b36f-75010d5413cb')\"\n",
              "              title=\"Convert this dataframe to an interactive table.\"\n",
              "              style=\"display:none;\">\n",
              "        \n",
              "  <svg xmlns=\"http://www.w3.org/2000/svg\" height=\"24px\"viewBox=\"0 0 24 24\"\n",
              "       width=\"24px\">\n",
              "    <path d=\"M0 0h24v24H0V0z\" fill=\"none\"/>\n",
              "    <path d=\"M18.56 5.44l.94 2.06.94-2.06 2.06-.94-2.06-.94-.94-2.06-.94 2.06-2.06.94zm-11 1L8.5 8.5l.94-2.06 2.06-.94-2.06-.94L8.5 2.5l-.94 2.06-2.06.94zm10 10l.94 2.06.94-2.06 2.06-.94-2.06-.94-.94-2.06-.94 2.06-2.06.94z\"/><path d=\"M17.41 7.96l-1.37-1.37c-.4-.4-.92-.59-1.43-.59-.52 0-1.04.2-1.43.59L10.3 9.45l-7.72 7.72c-.78.78-.78 2.05 0 2.83L4 21.41c.39.39.9.59 1.41.59.51 0 1.02-.2 1.41-.59l7.78-7.78 2.81-2.81c.8-.78.8-2.07 0-2.86zM5.41 20L4 18.59l7.72-7.72 1.47 1.35L5.41 20z\"/>\n",
              "  </svg>\n",
              "      </button>\n",
              "      \n",
              "  <style>\n",
              "    .colab-df-container {\n",
              "      display:flex;\n",
              "      flex-wrap:wrap;\n",
              "      gap: 12px;\n",
              "    }\n",
              "\n",
              "    .colab-df-convert {\n",
              "      background-color: #E8F0FE;\n",
              "      border: none;\n",
              "      border-radius: 50%;\n",
              "      cursor: pointer;\n",
              "      display: none;\n",
              "      fill: #1967D2;\n",
              "      height: 32px;\n",
              "      padding: 0 0 0 0;\n",
              "      width: 32px;\n",
              "    }\n",
              "\n",
              "    .colab-df-convert:hover {\n",
              "      background-color: #E2EBFA;\n",
              "      box-shadow: 0px 1px 2px rgba(60, 64, 67, 0.3), 0px 1px 3px 1px rgba(60, 64, 67, 0.15);\n",
              "      fill: #174EA6;\n",
              "    }\n",
              "\n",
              "    [theme=dark] .colab-df-convert {\n",
              "      background-color: #3B4455;\n",
              "      fill: #D2E3FC;\n",
              "    }\n",
              "\n",
              "    [theme=dark] .colab-df-convert:hover {\n",
              "      background-color: #434B5C;\n",
              "      box-shadow: 0px 1px 3px 1px rgba(0, 0, 0, 0.15);\n",
              "      filter: drop-shadow(0px 1px 2px rgba(0, 0, 0, 0.3));\n",
              "      fill: #FFFFFF;\n",
              "    }\n",
              "  </style>\n",
              "\n",
              "      <script>\n",
              "        const buttonEl =\n",
              "          document.querySelector('#df-554d78fa-9280-41da-b36f-75010d5413cb button.colab-df-convert');\n",
              "        buttonEl.style.display =\n",
              "          google.colab.kernel.accessAllowed ? 'block' : 'none';\n",
              "\n",
              "        async function convertToInteractive(key) {\n",
              "          const element = document.querySelector('#df-554d78fa-9280-41da-b36f-75010d5413cb');\n",
              "          const dataTable =\n",
              "            await google.colab.kernel.invokeFunction('convertToInteractive',\n",
              "                                                     [key], {});\n",
              "          if (!dataTable) return;\n",
              "\n",
              "          const docLinkHtml = 'Like what you see? Visit the ' +\n",
              "            '<a target=\"_blank\" href=https://colab.research.google.com/notebooks/data_table.ipynb>data table notebook</a>'\n",
              "            + ' to learn more about interactive tables.';\n",
              "          element.innerHTML = '';\n",
              "          dataTable['output_type'] = 'display_data';\n",
              "          await google.colab.output.renderOutput(dataTable, element);\n",
              "          const docLink = document.createElement('div');\n",
              "          docLink.innerHTML = docLinkHtml;\n",
              "          element.appendChild(docLink);\n",
              "        }\n",
              "      </script>\n",
              "    </div>\n",
              "  </div>\n",
              "  "
            ]
          },
          "metadata": {},
          "execution_count": 173
        }
      ]
    },
    {
      "cell_type": "code",
      "source": [
        "test.head()"
      ],
      "metadata": {
        "colab": {
          "base_uri": "https://localhost:8080/",
          "height": 339
        },
        "id": "M5A-KLG-LXxY",
        "outputId": "cbd0579c-5199-4422-95e7-f2d71573a51c"
      },
      "execution_count": 174,
      "outputs": [
        {
          "output_type": "execute_result",
          "data": {
            "text/plain": [
              "           id date_account_created  timestamp_first_active  \\\n",
              "0  5uwns89zht           2014-07-01          20140701000006   \n",
              "1  jtl0dijy2j           2014-07-01          20140701000051   \n",
              "2  xx0ulgorjt           2014-07-01          20140701000148   \n",
              "3  6c6puo6ix0           2014-07-01          20140701000215   \n",
              "4  czqhjk3yfe           2014-07-01          20140701000305   \n",
              "\n",
              "   date_first_booking     gender   age signup_method  signup_flow language  \\\n",
              "0                 NaN     FEMALE  35.0      facebook            0       en   \n",
              "1                 NaN  -unknown-   NaN         basic            0       en   \n",
              "2                 NaN  -unknown-   NaN         basic            0       en   \n",
              "3                 NaN  -unknown-   NaN         basic            0       en   \n",
              "4                 NaN  -unknown-   NaN         basic            0       en   \n",
              "\n",
              "  affiliate_channel affiliate_provider first_affiliate_tracked signup_app  \\\n",
              "0            direct             direct               untracked      Moweb   \n",
              "1            direct             direct               untracked      Moweb   \n",
              "2            direct             direct                  linked        Web   \n",
              "3            direct             direct                  linked        Web   \n",
              "4            direct             direct               untracked        Web   \n",
              "\n",
              "  first_device_type  first_browser  \n",
              "0            iPhone  Mobile Safari  \n",
              "1            iPhone  Mobile Safari  \n",
              "2   Windows Desktop         Chrome  \n",
              "3   Windows Desktop             IE  \n",
              "4       Mac Desktop         Safari  "
            ],
            "text/html": [
              "\n",
              "  <div id=\"df-fa615935-6ef6-49d4-8ec7-d8bb75b2fea9\">\n",
              "    <div class=\"colab-df-container\">\n",
              "      <div>\n",
              "<style scoped>\n",
              "    .dataframe tbody tr th:only-of-type {\n",
              "        vertical-align: middle;\n",
              "    }\n",
              "\n",
              "    .dataframe tbody tr th {\n",
              "        vertical-align: top;\n",
              "    }\n",
              "\n",
              "    .dataframe thead th {\n",
              "        text-align: right;\n",
              "    }\n",
              "</style>\n",
              "<table border=\"1\" class=\"dataframe\">\n",
              "  <thead>\n",
              "    <tr style=\"text-align: right;\">\n",
              "      <th></th>\n",
              "      <th>id</th>\n",
              "      <th>date_account_created</th>\n",
              "      <th>timestamp_first_active</th>\n",
              "      <th>date_first_booking</th>\n",
              "      <th>gender</th>\n",
              "      <th>age</th>\n",
              "      <th>signup_method</th>\n",
              "      <th>signup_flow</th>\n",
              "      <th>language</th>\n",
              "      <th>affiliate_channel</th>\n",
              "      <th>affiliate_provider</th>\n",
              "      <th>first_affiliate_tracked</th>\n",
              "      <th>signup_app</th>\n",
              "      <th>first_device_type</th>\n",
              "      <th>first_browser</th>\n",
              "    </tr>\n",
              "  </thead>\n",
              "  <tbody>\n",
              "    <tr>\n",
              "      <th>0</th>\n",
              "      <td>5uwns89zht</td>\n",
              "      <td>2014-07-01</td>\n",
              "      <td>20140701000006</td>\n",
              "      <td>NaN</td>\n",
              "      <td>FEMALE</td>\n",
              "      <td>35.0</td>\n",
              "      <td>facebook</td>\n",
              "      <td>0</td>\n",
              "      <td>en</td>\n",
              "      <td>direct</td>\n",
              "      <td>direct</td>\n",
              "      <td>untracked</td>\n",
              "      <td>Moweb</td>\n",
              "      <td>iPhone</td>\n",
              "      <td>Mobile Safari</td>\n",
              "    </tr>\n",
              "    <tr>\n",
              "      <th>1</th>\n",
              "      <td>jtl0dijy2j</td>\n",
              "      <td>2014-07-01</td>\n",
              "      <td>20140701000051</td>\n",
              "      <td>NaN</td>\n",
              "      <td>-unknown-</td>\n",
              "      <td>NaN</td>\n",
              "      <td>basic</td>\n",
              "      <td>0</td>\n",
              "      <td>en</td>\n",
              "      <td>direct</td>\n",
              "      <td>direct</td>\n",
              "      <td>untracked</td>\n",
              "      <td>Moweb</td>\n",
              "      <td>iPhone</td>\n",
              "      <td>Mobile Safari</td>\n",
              "    </tr>\n",
              "    <tr>\n",
              "      <th>2</th>\n",
              "      <td>xx0ulgorjt</td>\n",
              "      <td>2014-07-01</td>\n",
              "      <td>20140701000148</td>\n",
              "      <td>NaN</td>\n",
              "      <td>-unknown-</td>\n",
              "      <td>NaN</td>\n",
              "      <td>basic</td>\n",
              "      <td>0</td>\n",
              "      <td>en</td>\n",
              "      <td>direct</td>\n",
              "      <td>direct</td>\n",
              "      <td>linked</td>\n",
              "      <td>Web</td>\n",
              "      <td>Windows Desktop</td>\n",
              "      <td>Chrome</td>\n",
              "    </tr>\n",
              "    <tr>\n",
              "      <th>3</th>\n",
              "      <td>6c6puo6ix0</td>\n",
              "      <td>2014-07-01</td>\n",
              "      <td>20140701000215</td>\n",
              "      <td>NaN</td>\n",
              "      <td>-unknown-</td>\n",
              "      <td>NaN</td>\n",
              "      <td>basic</td>\n",
              "      <td>0</td>\n",
              "      <td>en</td>\n",
              "      <td>direct</td>\n",
              "      <td>direct</td>\n",
              "      <td>linked</td>\n",
              "      <td>Web</td>\n",
              "      <td>Windows Desktop</td>\n",
              "      <td>IE</td>\n",
              "    </tr>\n",
              "    <tr>\n",
              "      <th>4</th>\n",
              "      <td>czqhjk3yfe</td>\n",
              "      <td>2014-07-01</td>\n",
              "      <td>20140701000305</td>\n",
              "      <td>NaN</td>\n",
              "      <td>-unknown-</td>\n",
              "      <td>NaN</td>\n",
              "      <td>basic</td>\n",
              "      <td>0</td>\n",
              "      <td>en</td>\n",
              "      <td>direct</td>\n",
              "      <td>direct</td>\n",
              "      <td>untracked</td>\n",
              "      <td>Web</td>\n",
              "      <td>Mac Desktop</td>\n",
              "      <td>Safari</td>\n",
              "    </tr>\n",
              "  </tbody>\n",
              "</table>\n",
              "</div>\n",
              "      <button class=\"colab-df-convert\" onclick=\"convertToInteractive('df-fa615935-6ef6-49d4-8ec7-d8bb75b2fea9')\"\n",
              "              title=\"Convert this dataframe to an interactive table.\"\n",
              "              style=\"display:none;\">\n",
              "        \n",
              "  <svg xmlns=\"http://www.w3.org/2000/svg\" height=\"24px\"viewBox=\"0 0 24 24\"\n",
              "       width=\"24px\">\n",
              "    <path d=\"M0 0h24v24H0V0z\" fill=\"none\"/>\n",
              "    <path d=\"M18.56 5.44l.94 2.06.94-2.06 2.06-.94-2.06-.94-.94-2.06-.94 2.06-2.06.94zm-11 1L8.5 8.5l.94-2.06 2.06-.94-2.06-.94L8.5 2.5l-.94 2.06-2.06.94zm10 10l.94 2.06.94-2.06 2.06-.94-2.06-.94-.94-2.06-.94 2.06-2.06.94z\"/><path d=\"M17.41 7.96l-1.37-1.37c-.4-.4-.92-.59-1.43-.59-.52 0-1.04.2-1.43.59L10.3 9.45l-7.72 7.72c-.78.78-.78 2.05 0 2.83L4 21.41c.39.39.9.59 1.41.59.51 0 1.02-.2 1.41-.59l7.78-7.78 2.81-2.81c.8-.78.8-2.07 0-2.86zM5.41 20L4 18.59l7.72-7.72 1.47 1.35L5.41 20z\"/>\n",
              "  </svg>\n",
              "      </button>\n",
              "      \n",
              "  <style>\n",
              "    .colab-df-container {\n",
              "      display:flex;\n",
              "      flex-wrap:wrap;\n",
              "      gap: 12px;\n",
              "    }\n",
              "\n",
              "    .colab-df-convert {\n",
              "      background-color: #E8F0FE;\n",
              "      border: none;\n",
              "      border-radius: 50%;\n",
              "      cursor: pointer;\n",
              "      display: none;\n",
              "      fill: #1967D2;\n",
              "      height: 32px;\n",
              "      padding: 0 0 0 0;\n",
              "      width: 32px;\n",
              "    }\n",
              "\n",
              "    .colab-df-convert:hover {\n",
              "      background-color: #E2EBFA;\n",
              "      box-shadow: 0px 1px 2px rgba(60, 64, 67, 0.3), 0px 1px 3px 1px rgba(60, 64, 67, 0.15);\n",
              "      fill: #174EA6;\n",
              "    }\n",
              "\n",
              "    [theme=dark] .colab-df-convert {\n",
              "      background-color: #3B4455;\n",
              "      fill: #D2E3FC;\n",
              "    }\n",
              "\n",
              "    [theme=dark] .colab-df-convert:hover {\n",
              "      background-color: #434B5C;\n",
              "      box-shadow: 0px 1px 3px 1px rgba(0, 0, 0, 0.15);\n",
              "      filter: drop-shadow(0px 1px 2px rgba(0, 0, 0, 0.3));\n",
              "      fill: #FFFFFF;\n",
              "    }\n",
              "  </style>\n",
              "\n",
              "      <script>\n",
              "        const buttonEl =\n",
              "          document.querySelector('#df-fa615935-6ef6-49d4-8ec7-d8bb75b2fea9 button.colab-df-convert');\n",
              "        buttonEl.style.display =\n",
              "          google.colab.kernel.accessAllowed ? 'block' : 'none';\n",
              "\n",
              "        async function convertToInteractive(key) {\n",
              "          const element = document.querySelector('#df-fa615935-6ef6-49d4-8ec7-d8bb75b2fea9');\n",
              "          const dataTable =\n",
              "            await google.colab.kernel.invokeFunction('convertToInteractive',\n",
              "                                                     [key], {});\n",
              "          if (!dataTable) return;\n",
              "\n",
              "          const docLinkHtml = 'Like what you see? Visit the ' +\n",
              "            '<a target=\"_blank\" href=https://colab.research.google.com/notebooks/data_table.ipynb>data table notebook</a>'\n",
              "            + ' to learn more about interactive tables.';\n",
              "          element.innerHTML = '';\n",
              "          dataTable['output_type'] = 'display_data';\n",
              "          await google.colab.output.renderOutput(dataTable, element);\n",
              "          const docLink = document.createElement('div');\n",
              "          docLink.innerHTML = docLinkHtml;\n",
              "          element.appendChild(docLink);\n",
              "        }\n",
              "      </script>\n",
              "    </div>\n",
              "  </div>\n",
              "  "
            ]
          },
          "metadata": {},
          "execution_count": 174
        }
      ]
    },
    {
      "cell_type": "code",
      "source": [
        "for i in train.columns:\n",
        "  if train[i].isna().sum() !=0:\n",
        "    print('The columns \"', i, '\" has', train[i].isna().sum(), 'null values.' )"
      ],
      "metadata": {
        "colab": {
          "base_uri": "https://localhost:8080/"
        },
        "id": "UyEkot7pLc1m",
        "outputId": "8b99d7a8-a358-4466-90fd-6e220192f7b2"
      },
      "execution_count": 175,
      "outputs": [
        {
          "output_type": "stream",
          "name": "stdout",
          "text": [
            "The columns \" date_first_booking \" has 124543 null values.\n",
            "The columns \" age \" has 87990 null values.\n",
            "The columns \" first_affiliate_tracked \" has 6065 null values.\n"
          ]
        }
      ]
    },
    {
      "cell_type": "code",
      "source": [
        "train.info(), test.info()"
      ],
      "metadata": {
        "colab": {
          "base_uri": "https://localhost:8080/"
        },
        "id": "HdIdOU_YMz8q",
        "outputId": "d0950071-4ac9-4e51-e9bf-595f9fc9441e"
      },
      "execution_count": 176,
      "outputs": [
        {
          "output_type": "stream",
          "name": "stdout",
          "text": [
            "<class 'pandas.core.frame.DataFrame'>\n",
            "RangeIndex: 213451 entries, 0 to 213450\n",
            "Data columns (total 16 columns):\n",
            " #   Column                   Non-Null Count   Dtype  \n",
            "---  ------                   --------------   -----  \n",
            " 0   id                       213451 non-null  object \n",
            " 1   date_account_created     213451 non-null  object \n",
            " 2   timestamp_first_active   213451 non-null  int64  \n",
            " 3   date_first_booking       88908 non-null   object \n",
            " 4   gender                   213451 non-null  object \n",
            " 5   age                      125461 non-null  float64\n",
            " 6   signup_method            213451 non-null  object \n",
            " 7   signup_flow              213451 non-null  int64  \n",
            " 8   language                 213451 non-null  object \n",
            " 9   affiliate_channel        213451 non-null  object \n",
            " 10  affiliate_provider       213451 non-null  object \n",
            " 11  first_affiliate_tracked  207386 non-null  object \n",
            " 12  signup_app               213451 non-null  object \n",
            " 13  first_device_type        213451 non-null  object \n",
            " 14  first_browser            213451 non-null  object \n",
            " 15  country_destination      213451 non-null  object \n",
            "dtypes: float64(1), int64(2), object(13)\n",
            "memory usage: 26.1+ MB\n",
            "<class 'pandas.core.frame.DataFrame'>\n",
            "RangeIndex: 62096 entries, 0 to 62095\n",
            "Data columns (total 15 columns):\n",
            " #   Column                   Non-Null Count  Dtype  \n",
            "---  ------                   --------------  -----  \n",
            " 0   id                       62096 non-null  object \n",
            " 1   date_account_created     62096 non-null  object \n",
            " 2   timestamp_first_active   62096 non-null  int64  \n",
            " 3   date_first_booking       0 non-null      float64\n",
            " 4   gender                   62096 non-null  object \n",
            " 5   age                      33220 non-null  float64\n",
            " 6   signup_method            62096 non-null  object \n",
            " 7   signup_flow              62096 non-null  int64  \n",
            " 8   language                 62096 non-null  object \n",
            " 9   affiliate_channel        62096 non-null  object \n",
            " 10  affiliate_provider       62096 non-null  object \n",
            " 11  first_affiliate_tracked  62076 non-null  object \n",
            " 12  signup_app               62096 non-null  object \n",
            " 13  first_device_type        62096 non-null  object \n",
            " 14  first_browser            62096 non-null  object \n",
            "dtypes: float64(2), int64(2), object(11)\n",
            "memory usage: 7.1+ MB\n"
          ]
        },
        {
          "output_type": "execute_result",
          "data": {
            "text/plain": [
              "(None, None)"
            ]
          },
          "metadata": {},
          "execution_count": 176
        }
      ]
    },
    {
      "cell_type": "code",
      "source": [
        "#drop columns with so many null values\n",
        "train = train.drop(['date_first_booking'], axis = 1)\n",
        "test= test.drop(['date_first_booking'], axis=1)\n"
      ],
      "metadata": {
        "id": "dJIOz3mKOZID"
      },
      "execution_count": 177,
      "outputs": []
    },
    {
      "cell_type": "code",
      "source": [
        "#let's drop these columns because according to the features importance they should not be in there\n",
        "'''train = train.drop(['signup_app','first_browser','signup_flow'], axis = 1)\n",
        "test = test.drop(['signup_app','first_browser','signup_flow'], axis = 1)'''\n"
      ],
      "metadata": {
        "id": "4vA0FBwDEUxf",
        "colab": {
          "base_uri": "https://localhost:8080/",
          "height": 36
        },
        "outputId": "c67b9699-2682-4bd0-9ecc-19646213a597"
      },
      "execution_count": 178,
      "outputs": [
        {
          "output_type": "execute_result",
          "data": {
            "text/plain": [
              "\"train = train.drop(['signup_app','first_browser','signup_flow'], axis = 1)\\ntest = test.drop(['signup_app','first_browser','signup_flow'], axis = 1)\""
            ],
            "application/vnd.google.colaboratory.intrinsic+json": {
              "type": "string"
            }
          },
          "metadata": {},
          "execution_count": 178
        }
      ]
    },
    {
      "cell_type": "code",
      "source": [
        "#Converting below columns as categories for plotting in graphs\n",
        "categorical_features = [\n",
        "    'affiliate_channel',\n",
        "    'affiliate_provider',\n",
        "    'first_affiliate_tracked',\n",
        "   'first_browser',\n",
        "    'first_device_type',\n",
        "    'gender',\n",
        "    'language',\n",
        "    'signup_app',\n",
        "    'signup_method',\n",
        "  #  'signup_flow'\n",
        "]\n",
        "\n",
        "for categorical_feature in categorical_features:\n",
        "    train[categorical_feature] = train[categorical_feature].astype('category')\n",
        "    test[categorical_feature] = test[categorical_feature].astype('category')"
      ],
      "metadata": {
        "id": "ATzVqqS8QuOa"
      },
      "execution_count": 179,
      "outputs": []
    },
    {
      "cell_type": "code",
      "source": [
        "train['date_account_created'] = pd.to_datetime(train['date_account_created'])\n",
        "\n",
        "test['date_account_created'] = pd.to_datetime(test['date_account_created'])\n"
      ],
      "metadata": {
        "id": "sA4H6YqaQ5Ug"
      },
      "execution_count": 180,
      "outputs": []
    },
    {
      "cell_type": "code",
      "source": [
        "# timestamp_first_active transformation\n",
        "# Here as well we separate the timestamp first active into day mount and year\n",
        "#train.timestamp_first_active = train.timestamp_first_active.apply(lambda x: x.timestamp())\n",
        "\n",
        "tfa = np.vstack(train.timestamp_first_active.astype(str).apply(lambda x: list(map(int, [x[:4],x[4:6],x[6:8],x[8:10],x[10:12],x[12:14]]))).values)\n",
        "\n",
        "print(tfa)\n",
        "train['tfa_year'] = tfa[:,0]\n",
        "train['tfa_month'] = tfa[:,1]\n",
        "train['tfa_day'] = tfa[:,2]\n",
        "\n",
        "\n",
        "train['timestamp_first_active']=pd.to_datetime(train['timestamp_first_active'],format='%Y%m%d%H%M%S')\n",
        "from datetime import datetime\n",
        "k=[]\n",
        "for i in train['timestamp_first_active']:\n",
        "  k.append(i.strftime('%A'))\n",
        "\n",
        "train['tfa_day']=k\n",
        "\n",
        "#train = train.drop(['timestamp_first_active'], axis=1)\n",
        "\n"
      ],
      "metadata": {
        "colab": {
          "base_uri": "https://localhost:8080/"
        },
        "id": "TOHhcj-zuyXc",
        "outputId": "23fb09e3-ef11-485a-8577-a79446184628"
      },
      "execution_count": 181,
      "outputs": [
        {
          "output_type": "stream",
          "name": "stdout",
          "text": [
            "[[2009    3   19    4   32   55]\n",
            " [2009    5   23   17   48    9]\n",
            " [2009    6    9   23   12   47]\n",
            " ...\n",
            " [2014    6   30   23   57   54]\n",
            " [2014    6   30   23   58   22]\n",
            " [2014    6   30   23   58   24]]\n"
          ]
        }
      ]
    },
    {
      "cell_type": "markdown",
      "source": [
        "**AGE**"
      ],
      "metadata": {
        "id": "fESJfDjrnChj"
      }
    },
    {
      "cell_type": "code",
      "source": [
        "train.age.describe()"
      ],
      "metadata": {
        "colab": {
          "base_uri": "https://localhost:8080/"
        },
        "id": "0iYfwKawM5GE",
        "outputId": "803f6027-265d-4209-d067-d37bcfb0632b"
      },
      "execution_count": 182,
      "outputs": [
        {
          "output_type": "execute_result",
          "data": {
            "text/plain": [
              "count    125461.000000\n",
              "mean         49.668335\n",
              "std         155.666612\n",
              "min           1.000000\n",
              "25%          28.000000\n",
              "50%          34.000000\n",
              "75%          43.000000\n",
              "max        2014.000000\n",
              "Name: age, dtype: float64"
            ]
          },
          "metadata": {},
          "execution_count": 182
        }
      ]
    },
    {
      "cell_type": "code",
      "source": [
        "(train.age > 100).value_counts()\n"
      ],
      "metadata": {
        "colab": {
          "base_uri": "https://localhost:8080/"
        },
        "id": "Cg_GMwYWPwC4",
        "outputId": "4892a21c-25a7-4111-9237-447780606196"
      },
      "execution_count": 183,
      "outputs": [
        {
          "output_type": "execute_result",
          "data": {
            "text/plain": [
              "False    211106\n",
              "True       2345\n",
              "Name: age, dtype: int64"
            ]
          },
          "metadata": {},
          "execution_count": 183
        }
      ]
    },
    {
      "cell_type": "code",
      "source": [
        "(train.age < 18).value_counts()\n"
      ],
      "metadata": {
        "colab": {
          "base_uri": "https://localhost:8080/"
        },
        "id": "qr1Eh6GvP8do",
        "outputId": "52808b30-034c-4400-be9c-5ee4170e1948"
      },
      "execution_count": 184,
      "outputs": [
        {
          "output_type": "execute_result",
          "data": {
            "text/plain": [
              "False    213293\n",
              "True        158\n",
              "Name: age, dtype: int64"
            ]
          },
          "metadata": {},
          "execution_count": 184
        }
      ]
    },
    {
      "cell_type": "code",
      "source": [
        "train[(train['age']<18) & (train['age']>=100)].age = np.nan\n",
        "test[(train['age']<18) & (test['age']>=100)].age = np.nan\n"
      ],
      "metadata": {
        "id": "ghwGYtScQR-x"
      },
      "execution_count": 185,
      "outputs": []
    },
    {
      "cell_type": "code",
      "source": [
        "train.shape[0]-train.age.isna().sum()"
      ],
      "metadata": {
        "colab": {
          "base_uri": "https://localhost:8080/"
        },
        "id": "bA_HgSwcQhhP",
        "outputId": "f9eeefcc-1cec-4c71-e161-84d36d662177"
      },
      "execution_count": 186,
      "outputs": [
        {
          "output_type": "execute_result",
          "data": {
            "text/plain": [
              "125461"
            ]
          },
          "metadata": {},
          "execution_count": 186
        }
      ]
    },
    {
      "cell_type": "code",
      "source": [
        "#let's fill the null values with the median \n",
        "\n",
        "train['age']= train['age'].fillna(train['age'].median())\n",
        "test['age']= test['age'].fillna(train['age'].median())"
      ],
      "metadata": {
        "id": "xOCdc3BglOfv"
      },
      "execution_count": 187,
      "outputs": []
    },
    {
      "cell_type": "markdown",
      "source": [
        "**GENDER**"
      ],
      "metadata": {
        "id": "gKqofL1JpzQd"
      }
    },
    {
      "cell_type": "code",
      "source": [
        "print('for train data: ', train.gender.value_counts())\n",
        "print('-----------------------------')\n",
        "print('for test data: ', test.gender.value_counts())\n"
      ],
      "metadata": {
        "colab": {
          "base_uri": "https://localhost:8080/"
        },
        "id": "oIkdkJtHkjQb",
        "outputId": "98e6cf22-2b8e-44db-d128-99fd68ece9ac"
      },
      "execution_count": 188,
      "outputs": [
        {
          "output_type": "stream",
          "name": "stdout",
          "text": [
            "for train data:  -unknown-    95688\n",
            "FEMALE       63041\n",
            "MALE         54440\n",
            "OTHER          282\n",
            "Name: gender, dtype: int64\n",
            "-----------------------------\n",
            "for test data:  -unknown-    33792\n",
            "FEMALE       14483\n",
            "MALE         13769\n",
            "OTHER           52\n",
            "Name: gender, dtype: int64\n"
          ]
        }
      ]
    },
    {
      "cell_type": "code",
      "source": [
        "train = train[train.country_destination != 'NDF']\n"
      ],
      "metadata": {
        "id": "8eOQ_jIeVWZm"
      },
      "execution_count": 189,
      "outputs": []
    },
    {
      "cell_type": "code",
      "source": [
        "train.head()"
      ],
      "metadata": {
        "colab": {
          "base_uri": "https://localhost:8080/",
          "height": 305
        },
        "id": "x8exqmNlaH5N",
        "outputId": "5d6b0ddf-e21f-40b0-ca2e-b7de3cc6c595"
      },
      "execution_count": 190,
      "outputs": [
        {
          "output_type": "execute_result",
          "data": {
            "text/plain": [
              "           id date_account_created timestamp_first_active     gender   age  \\\n",
              "2  4ft3gnwmtx           2010-09-28    2009-06-09 23:12:47     FEMALE  56.0   \n",
              "3  bjjt8pjhuk           2011-12-05    2009-10-31 06:01:29     FEMALE  42.0   \n",
              "4  87mebub9p4           2010-09-14    2009-12-08 06:11:05  -unknown-  41.0   \n",
              "5  osr2jwljor           2010-01-01    2010-01-01 21:56:19  -unknown-  34.0   \n",
              "6  lsw9q7uk0j           2010-01-02    2010-01-02 01:25:58     FEMALE  46.0   \n",
              "\n",
              "  signup_method  signup_flow language affiliate_channel affiliate_provider  \\\n",
              "2         basic            3       en            direct             direct   \n",
              "3      facebook            0       en            direct             direct   \n",
              "4         basic            0       en            direct             direct   \n",
              "5         basic            0       en             other              other   \n",
              "6         basic            0       en             other         craigslist   \n",
              "\n",
              "  first_affiliate_tracked signup_app first_device_type first_browser  \\\n",
              "2               untracked        Web   Windows Desktop            IE   \n",
              "3               untracked        Web       Mac Desktop       Firefox   \n",
              "4               untracked        Web       Mac Desktop        Chrome   \n",
              "5                     omg        Web       Mac Desktop        Chrome   \n",
              "6               untracked        Web       Mac Desktop        Safari   \n",
              "\n",
              "  country_destination  tfa_year  tfa_month   tfa_day  \n",
              "2                  US      2009          6   Tuesday  \n",
              "3               other      2009         10  Saturday  \n",
              "4                  US      2009         12   Tuesday  \n",
              "5                  US      2010          1    Friday  \n",
              "6                  US      2010          1  Saturday  "
            ],
            "text/html": [
              "\n",
              "  <div id=\"df-d33cad4a-34ab-4850-a661-7c1de605abd8\">\n",
              "    <div class=\"colab-df-container\">\n",
              "      <div>\n",
              "<style scoped>\n",
              "    .dataframe tbody tr th:only-of-type {\n",
              "        vertical-align: middle;\n",
              "    }\n",
              "\n",
              "    .dataframe tbody tr th {\n",
              "        vertical-align: top;\n",
              "    }\n",
              "\n",
              "    .dataframe thead th {\n",
              "        text-align: right;\n",
              "    }\n",
              "</style>\n",
              "<table border=\"1\" class=\"dataframe\">\n",
              "  <thead>\n",
              "    <tr style=\"text-align: right;\">\n",
              "      <th></th>\n",
              "      <th>id</th>\n",
              "      <th>date_account_created</th>\n",
              "      <th>timestamp_first_active</th>\n",
              "      <th>gender</th>\n",
              "      <th>age</th>\n",
              "      <th>signup_method</th>\n",
              "      <th>signup_flow</th>\n",
              "      <th>language</th>\n",
              "      <th>affiliate_channel</th>\n",
              "      <th>affiliate_provider</th>\n",
              "      <th>first_affiliate_tracked</th>\n",
              "      <th>signup_app</th>\n",
              "      <th>first_device_type</th>\n",
              "      <th>first_browser</th>\n",
              "      <th>country_destination</th>\n",
              "      <th>tfa_year</th>\n",
              "      <th>tfa_month</th>\n",
              "      <th>tfa_day</th>\n",
              "    </tr>\n",
              "  </thead>\n",
              "  <tbody>\n",
              "    <tr>\n",
              "      <th>2</th>\n",
              "      <td>4ft3gnwmtx</td>\n",
              "      <td>2010-09-28</td>\n",
              "      <td>2009-06-09 23:12:47</td>\n",
              "      <td>FEMALE</td>\n",
              "      <td>56.0</td>\n",
              "      <td>basic</td>\n",
              "      <td>3</td>\n",
              "      <td>en</td>\n",
              "      <td>direct</td>\n",
              "      <td>direct</td>\n",
              "      <td>untracked</td>\n",
              "      <td>Web</td>\n",
              "      <td>Windows Desktop</td>\n",
              "      <td>IE</td>\n",
              "      <td>US</td>\n",
              "      <td>2009</td>\n",
              "      <td>6</td>\n",
              "      <td>Tuesday</td>\n",
              "    </tr>\n",
              "    <tr>\n",
              "      <th>3</th>\n",
              "      <td>bjjt8pjhuk</td>\n",
              "      <td>2011-12-05</td>\n",
              "      <td>2009-10-31 06:01:29</td>\n",
              "      <td>FEMALE</td>\n",
              "      <td>42.0</td>\n",
              "      <td>facebook</td>\n",
              "      <td>0</td>\n",
              "      <td>en</td>\n",
              "      <td>direct</td>\n",
              "      <td>direct</td>\n",
              "      <td>untracked</td>\n",
              "      <td>Web</td>\n",
              "      <td>Mac Desktop</td>\n",
              "      <td>Firefox</td>\n",
              "      <td>other</td>\n",
              "      <td>2009</td>\n",
              "      <td>10</td>\n",
              "      <td>Saturday</td>\n",
              "    </tr>\n",
              "    <tr>\n",
              "      <th>4</th>\n",
              "      <td>87mebub9p4</td>\n",
              "      <td>2010-09-14</td>\n",
              "      <td>2009-12-08 06:11:05</td>\n",
              "      <td>-unknown-</td>\n",
              "      <td>41.0</td>\n",
              "      <td>basic</td>\n",
              "      <td>0</td>\n",
              "      <td>en</td>\n",
              "      <td>direct</td>\n",
              "      <td>direct</td>\n",
              "      <td>untracked</td>\n",
              "      <td>Web</td>\n",
              "      <td>Mac Desktop</td>\n",
              "      <td>Chrome</td>\n",
              "      <td>US</td>\n",
              "      <td>2009</td>\n",
              "      <td>12</td>\n",
              "      <td>Tuesday</td>\n",
              "    </tr>\n",
              "    <tr>\n",
              "      <th>5</th>\n",
              "      <td>osr2jwljor</td>\n",
              "      <td>2010-01-01</td>\n",
              "      <td>2010-01-01 21:56:19</td>\n",
              "      <td>-unknown-</td>\n",
              "      <td>34.0</td>\n",
              "      <td>basic</td>\n",
              "      <td>0</td>\n",
              "      <td>en</td>\n",
              "      <td>other</td>\n",
              "      <td>other</td>\n",
              "      <td>omg</td>\n",
              "      <td>Web</td>\n",
              "      <td>Mac Desktop</td>\n",
              "      <td>Chrome</td>\n",
              "      <td>US</td>\n",
              "      <td>2010</td>\n",
              "      <td>1</td>\n",
              "      <td>Friday</td>\n",
              "    </tr>\n",
              "    <tr>\n",
              "      <th>6</th>\n",
              "      <td>lsw9q7uk0j</td>\n",
              "      <td>2010-01-02</td>\n",
              "      <td>2010-01-02 01:25:58</td>\n",
              "      <td>FEMALE</td>\n",
              "      <td>46.0</td>\n",
              "      <td>basic</td>\n",
              "      <td>0</td>\n",
              "      <td>en</td>\n",
              "      <td>other</td>\n",
              "      <td>craigslist</td>\n",
              "      <td>untracked</td>\n",
              "      <td>Web</td>\n",
              "      <td>Mac Desktop</td>\n",
              "      <td>Safari</td>\n",
              "      <td>US</td>\n",
              "      <td>2010</td>\n",
              "      <td>1</td>\n",
              "      <td>Saturday</td>\n",
              "    </tr>\n",
              "  </tbody>\n",
              "</table>\n",
              "</div>\n",
              "      <button class=\"colab-df-convert\" onclick=\"convertToInteractive('df-d33cad4a-34ab-4850-a661-7c1de605abd8')\"\n",
              "              title=\"Convert this dataframe to an interactive table.\"\n",
              "              style=\"display:none;\">\n",
              "        \n",
              "  <svg xmlns=\"http://www.w3.org/2000/svg\" height=\"24px\"viewBox=\"0 0 24 24\"\n",
              "       width=\"24px\">\n",
              "    <path d=\"M0 0h24v24H0V0z\" fill=\"none\"/>\n",
              "    <path d=\"M18.56 5.44l.94 2.06.94-2.06 2.06-.94-2.06-.94-.94-2.06-.94 2.06-2.06.94zm-11 1L8.5 8.5l.94-2.06 2.06-.94-2.06-.94L8.5 2.5l-.94 2.06-2.06.94zm10 10l.94 2.06.94-2.06 2.06-.94-2.06-.94-.94-2.06-.94 2.06-2.06.94z\"/><path d=\"M17.41 7.96l-1.37-1.37c-.4-.4-.92-.59-1.43-.59-.52 0-1.04.2-1.43.59L10.3 9.45l-7.72 7.72c-.78.78-.78 2.05 0 2.83L4 21.41c.39.39.9.59 1.41.59.51 0 1.02-.2 1.41-.59l7.78-7.78 2.81-2.81c.8-.78.8-2.07 0-2.86zM5.41 20L4 18.59l7.72-7.72 1.47 1.35L5.41 20z\"/>\n",
              "  </svg>\n",
              "      </button>\n",
              "      \n",
              "  <style>\n",
              "    .colab-df-container {\n",
              "      display:flex;\n",
              "      flex-wrap:wrap;\n",
              "      gap: 12px;\n",
              "    }\n",
              "\n",
              "    .colab-df-convert {\n",
              "      background-color: #E8F0FE;\n",
              "      border: none;\n",
              "      border-radius: 50%;\n",
              "      cursor: pointer;\n",
              "      display: none;\n",
              "      fill: #1967D2;\n",
              "      height: 32px;\n",
              "      padding: 0 0 0 0;\n",
              "      width: 32px;\n",
              "    }\n",
              "\n",
              "    .colab-df-convert:hover {\n",
              "      background-color: #E2EBFA;\n",
              "      box-shadow: 0px 1px 2px rgba(60, 64, 67, 0.3), 0px 1px 3px 1px rgba(60, 64, 67, 0.15);\n",
              "      fill: #174EA6;\n",
              "    }\n",
              "\n",
              "    [theme=dark] .colab-df-convert {\n",
              "      background-color: #3B4455;\n",
              "      fill: #D2E3FC;\n",
              "    }\n",
              "\n",
              "    [theme=dark] .colab-df-convert:hover {\n",
              "      background-color: #434B5C;\n",
              "      box-shadow: 0px 1px 3px 1px rgba(0, 0, 0, 0.15);\n",
              "      filter: drop-shadow(0px 1px 2px rgba(0, 0, 0, 0.3));\n",
              "      fill: #FFFFFF;\n",
              "    }\n",
              "  </style>\n",
              "\n",
              "      <script>\n",
              "        const buttonEl =\n",
              "          document.querySelector('#df-d33cad4a-34ab-4850-a661-7c1de605abd8 button.colab-df-convert');\n",
              "        buttonEl.style.display =\n",
              "          google.colab.kernel.accessAllowed ? 'block' : 'none';\n",
              "\n",
              "        async function convertToInteractive(key) {\n",
              "          const element = document.querySelector('#df-d33cad4a-34ab-4850-a661-7c1de605abd8');\n",
              "          const dataTable =\n",
              "            await google.colab.kernel.invokeFunction('convertToInteractive',\n",
              "                                                     [key], {});\n",
              "          if (!dataTable) return;\n",
              "\n",
              "          const docLinkHtml = 'Like what you see? Visit the ' +\n",
              "            '<a target=\"_blank\" href=https://colab.research.google.com/notebooks/data_table.ipynb>data table notebook</a>'\n",
              "            + ' to learn more about interactive tables.';\n",
              "          element.innerHTML = '';\n",
              "          dataTable['output_type'] = 'display_data';\n",
              "          await google.colab.output.renderOutput(dataTable, element);\n",
              "          const docLink = document.createElement('div');\n",
              "          docLink.innerHTML = docLinkHtml;\n",
              "          element.appendChild(docLink);\n",
              "        }\n",
              "      </script>\n",
              "    </div>\n",
              "  </div>\n",
              "  "
            ]
          },
          "metadata": {},
          "execution_count": 190
        }
      ]
    },
    {
      "cell_type": "markdown",
      "source": [
        "**DATES**"
      ],
      "metadata": {
        "id": "CXGKLfnouao1"
      }
    },
    {
      "cell_type": "code",
      "source": [
        "# Date_account_created transformation\n",
        "# Separate the day month and year into different columns\n",
        "dac = np.vstack(train.date_account_created.astype(str).apply(lambda x: list(map(int, x.split('-')))).values)\n",
        "print(dac)\n",
        "train['dac_year'] = dac[:,0]\n",
        "train['dac_mounth'] = dac[:,1]\n",
        "train['dac_day'] = dac[:,2]\n",
        "\n",
        "train['date_account_created']=pd.to_datetime(train['date_account_created'])\n",
        "from datetime import datetime\n",
        "l=[]\n",
        "for i in train['date_account_created']:\n",
        "  l.append(i.strftime('%A'))\n",
        "\n",
        "train['dac_day']=l\n",
        "train = train.drop(['date_account_created'], axis = 1)\n",
        "\n",
        "\n",
        "\n"
      ],
      "metadata": {
        "colab": {
          "base_uri": "https://localhost:8080/"
        },
        "id": "AgQMptr4ukUW",
        "outputId": "1e2cee7e-9249-4e96-930f-454c41f2f927"
      },
      "execution_count": 191,
      "outputs": [
        {
          "output_type": "stream",
          "name": "stdout",
          "text": [
            "[[2010    9   28]\n",
            " [2011   12    5]\n",
            " [2010    9   14]\n",
            " ...\n",
            " [2014    6   30]\n",
            " [2014    6   30]\n",
            " [2014    6   30]]\n"
          ]
        }
      ]
    },
    {
      "cell_type": "code",
      "source": [
        "train.head()"
      ],
      "metadata": {
        "colab": {
          "base_uri": "https://localhost:8080/",
          "height": 305
        },
        "id": "qK45K36tzxuH",
        "outputId": "adb55a52-5507-4514-a2ad-b4c22bd34c69"
      },
      "execution_count": 192,
      "outputs": [
        {
          "output_type": "execute_result",
          "data": {
            "text/plain": [
              "           id timestamp_first_active     gender   age signup_method  \\\n",
              "2  4ft3gnwmtx    2009-06-09 23:12:47     FEMALE  56.0         basic   \n",
              "3  bjjt8pjhuk    2009-10-31 06:01:29     FEMALE  42.0      facebook   \n",
              "4  87mebub9p4    2009-12-08 06:11:05  -unknown-  41.0         basic   \n",
              "5  osr2jwljor    2010-01-01 21:56:19  -unknown-  34.0         basic   \n",
              "6  lsw9q7uk0j    2010-01-02 01:25:58     FEMALE  46.0         basic   \n",
              "\n",
              "   signup_flow language affiliate_channel affiliate_provider  \\\n",
              "2            3       en            direct             direct   \n",
              "3            0       en            direct             direct   \n",
              "4            0       en            direct             direct   \n",
              "5            0       en             other              other   \n",
              "6            0       en             other         craigslist   \n",
              "\n",
              "  first_affiliate_tracked signup_app first_device_type first_browser  \\\n",
              "2               untracked        Web   Windows Desktop            IE   \n",
              "3               untracked        Web       Mac Desktop       Firefox   \n",
              "4               untracked        Web       Mac Desktop        Chrome   \n",
              "5                     omg        Web       Mac Desktop        Chrome   \n",
              "6               untracked        Web       Mac Desktop        Safari   \n",
              "\n",
              "  country_destination  tfa_year  tfa_month   tfa_day  dac_year  dac_mounth  \\\n",
              "2                  US      2009          6   Tuesday      2010           9   \n",
              "3               other      2009         10  Saturday      2011          12   \n",
              "4                  US      2009         12   Tuesday      2010           9   \n",
              "5                  US      2010          1    Friday      2010           1   \n",
              "6                  US      2010          1  Saturday      2010           1   \n",
              "\n",
              "    dac_day  \n",
              "2   Tuesday  \n",
              "3    Monday  \n",
              "4   Tuesday  \n",
              "5    Friday  \n",
              "6  Saturday  "
            ],
            "text/html": [
              "\n",
              "  <div id=\"df-15c32816-e150-457b-99ff-474617b07a78\">\n",
              "    <div class=\"colab-df-container\">\n",
              "      <div>\n",
              "<style scoped>\n",
              "    .dataframe tbody tr th:only-of-type {\n",
              "        vertical-align: middle;\n",
              "    }\n",
              "\n",
              "    .dataframe tbody tr th {\n",
              "        vertical-align: top;\n",
              "    }\n",
              "\n",
              "    .dataframe thead th {\n",
              "        text-align: right;\n",
              "    }\n",
              "</style>\n",
              "<table border=\"1\" class=\"dataframe\">\n",
              "  <thead>\n",
              "    <tr style=\"text-align: right;\">\n",
              "      <th></th>\n",
              "      <th>id</th>\n",
              "      <th>timestamp_first_active</th>\n",
              "      <th>gender</th>\n",
              "      <th>age</th>\n",
              "      <th>signup_method</th>\n",
              "      <th>signup_flow</th>\n",
              "      <th>language</th>\n",
              "      <th>affiliate_channel</th>\n",
              "      <th>affiliate_provider</th>\n",
              "      <th>first_affiliate_tracked</th>\n",
              "      <th>signup_app</th>\n",
              "      <th>first_device_type</th>\n",
              "      <th>first_browser</th>\n",
              "      <th>country_destination</th>\n",
              "      <th>tfa_year</th>\n",
              "      <th>tfa_month</th>\n",
              "      <th>tfa_day</th>\n",
              "      <th>dac_year</th>\n",
              "      <th>dac_mounth</th>\n",
              "      <th>dac_day</th>\n",
              "    </tr>\n",
              "  </thead>\n",
              "  <tbody>\n",
              "    <tr>\n",
              "      <th>2</th>\n",
              "      <td>4ft3gnwmtx</td>\n",
              "      <td>2009-06-09 23:12:47</td>\n",
              "      <td>FEMALE</td>\n",
              "      <td>56.0</td>\n",
              "      <td>basic</td>\n",
              "      <td>3</td>\n",
              "      <td>en</td>\n",
              "      <td>direct</td>\n",
              "      <td>direct</td>\n",
              "      <td>untracked</td>\n",
              "      <td>Web</td>\n",
              "      <td>Windows Desktop</td>\n",
              "      <td>IE</td>\n",
              "      <td>US</td>\n",
              "      <td>2009</td>\n",
              "      <td>6</td>\n",
              "      <td>Tuesday</td>\n",
              "      <td>2010</td>\n",
              "      <td>9</td>\n",
              "      <td>Tuesday</td>\n",
              "    </tr>\n",
              "    <tr>\n",
              "      <th>3</th>\n",
              "      <td>bjjt8pjhuk</td>\n",
              "      <td>2009-10-31 06:01:29</td>\n",
              "      <td>FEMALE</td>\n",
              "      <td>42.0</td>\n",
              "      <td>facebook</td>\n",
              "      <td>0</td>\n",
              "      <td>en</td>\n",
              "      <td>direct</td>\n",
              "      <td>direct</td>\n",
              "      <td>untracked</td>\n",
              "      <td>Web</td>\n",
              "      <td>Mac Desktop</td>\n",
              "      <td>Firefox</td>\n",
              "      <td>other</td>\n",
              "      <td>2009</td>\n",
              "      <td>10</td>\n",
              "      <td>Saturday</td>\n",
              "      <td>2011</td>\n",
              "      <td>12</td>\n",
              "      <td>Monday</td>\n",
              "    </tr>\n",
              "    <tr>\n",
              "      <th>4</th>\n",
              "      <td>87mebub9p4</td>\n",
              "      <td>2009-12-08 06:11:05</td>\n",
              "      <td>-unknown-</td>\n",
              "      <td>41.0</td>\n",
              "      <td>basic</td>\n",
              "      <td>0</td>\n",
              "      <td>en</td>\n",
              "      <td>direct</td>\n",
              "      <td>direct</td>\n",
              "      <td>untracked</td>\n",
              "      <td>Web</td>\n",
              "      <td>Mac Desktop</td>\n",
              "      <td>Chrome</td>\n",
              "      <td>US</td>\n",
              "      <td>2009</td>\n",
              "      <td>12</td>\n",
              "      <td>Tuesday</td>\n",
              "      <td>2010</td>\n",
              "      <td>9</td>\n",
              "      <td>Tuesday</td>\n",
              "    </tr>\n",
              "    <tr>\n",
              "      <th>5</th>\n",
              "      <td>osr2jwljor</td>\n",
              "      <td>2010-01-01 21:56:19</td>\n",
              "      <td>-unknown-</td>\n",
              "      <td>34.0</td>\n",
              "      <td>basic</td>\n",
              "      <td>0</td>\n",
              "      <td>en</td>\n",
              "      <td>other</td>\n",
              "      <td>other</td>\n",
              "      <td>omg</td>\n",
              "      <td>Web</td>\n",
              "      <td>Mac Desktop</td>\n",
              "      <td>Chrome</td>\n",
              "      <td>US</td>\n",
              "      <td>2010</td>\n",
              "      <td>1</td>\n",
              "      <td>Friday</td>\n",
              "      <td>2010</td>\n",
              "      <td>1</td>\n",
              "      <td>Friday</td>\n",
              "    </tr>\n",
              "    <tr>\n",
              "      <th>6</th>\n",
              "      <td>lsw9q7uk0j</td>\n",
              "      <td>2010-01-02 01:25:58</td>\n",
              "      <td>FEMALE</td>\n",
              "      <td>46.0</td>\n",
              "      <td>basic</td>\n",
              "      <td>0</td>\n",
              "      <td>en</td>\n",
              "      <td>other</td>\n",
              "      <td>craigslist</td>\n",
              "      <td>untracked</td>\n",
              "      <td>Web</td>\n",
              "      <td>Mac Desktop</td>\n",
              "      <td>Safari</td>\n",
              "      <td>US</td>\n",
              "      <td>2010</td>\n",
              "      <td>1</td>\n",
              "      <td>Saturday</td>\n",
              "      <td>2010</td>\n",
              "      <td>1</td>\n",
              "      <td>Saturday</td>\n",
              "    </tr>\n",
              "  </tbody>\n",
              "</table>\n",
              "</div>\n",
              "      <button class=\"colab-df-convert\" onclick=\"convertToInteractive('df-15c32816-e150-457b-99ff-474617b07a78')\"\n",
              "              title=\"Convert this dataframe to an interactive table.\"\n",
              "              style=\"display:none;\">\n",
              "        \n",
              "  <svg xmlns=\"http://www.w3.org/2000/svg\" height=\"24px\"viewBox=\"0 0 24 24\"\n",
              "       width=\"24px\">\n",
              "    <path d=\"M0 0h24v24H0V0z\" fill=\"none\"/>\n",
              "    <path d=\"M18.56 5.44l.94 2.06.94-2.06 2.06-.94-2.06-.94-.94-2.06-.94 2.06-2.06.94zm-11 1L8.5 8.5l.94-2.06 2.06-.94-2.06-.94L8.5 2.5l-.94 2.06-2.06.94zm10 10l.94 2.06.94-2.06 2.06-.94-2.06-.94-.94-2.06-.94 2.06-2.06.94z\"/><path d=\"M17.41 7.96l-1.37-1.37c-.4-.4-.92-.59-1.43-.59-.52 0-1.04.2-1.43.59L10.3 9.45l-7.72 7.72c-.78.78-.78 2.05 0 2.83L4 21.41c.39.39.9.59 1.41.59.51 0 1.02-.2 1.41-.59l7.78-7.78 2.81-2.81c.8-.78.8-2.07 0-2.86zM5.41 20L4 18.59l7.72-7.72 1.47 1.35L5.41 20z\"/>\n",
              "  </svg>\n",
              "      </button>\n",
              "      \n",
              "  <style>\n",
              "    .colab-df-container {\n",
              "      display:flex;\n",
              "      flex-wrap:wrap;\n",
              "      gap: 12px;\n",
              "    }\n",
              "\n",
              "    .colab-df-convert {\n",
              "      background-color: #E8F0FE;\n",
              "      border: none;\n",
              "      border-radius: 50%;\n",
              "      cursor: pointer;\n",
              "      display: none;\n",
              "      fill: #1967D2;\n",
              "      height: 32px;\n",
              "      padding: 0 0 0 0;\n",
              "      width: 32px;\n",
              "    }\n",
              "\n",
              "    .colab-df-convert:hover {\n",
              "      background-color: #E2EBFA;\n",
              "      box-shadow: 0px 1px 2px rgba(60, 64, 67, 0.3), 0px 1px 3px 1px rgba(60, 64, 67, 0.15);\n",
              "      fill: #174EA6;\n",
              "    }\n",
              "\n",
              "    [theme=dark] .colab-df-convert {\n",
              "      background-color: #3B4455;\n",
              "      fill: #D2E3FC;\n",
              "    }\n",
              "\n",
              "    [theme=dark] .colab-df-convert:hover {\n",
              "      background-color: #434B5C;\n",
              "      box-shadow: 0px 1px 3px 1px rgba(0, 0, 0, 0.15);\n",
              "      filter: drop-shadow(0px 1px 2px rgba(0, 0, 0, 0.3));\n",
              "      fill: #FFFFFF;\n",
              "    }\n",
              "  </style>\n",
              "\n",
              "      <script>\n",
              "        const buttonEl =\n",
              "          document.querySelector('#df-15c32816-e150-457b-99ff-474617b07a78 button.colab-df-convert');\n",
              "        buttonEl.style.display =\n",
              "          google.colab.kernel.accessAllowed ? 'block' : 'none';\n",
              "\n",
              "        async function convertToInteractive(key) {\n",
              "          const element = document.querySelector('#df-15c32816-e150-457b-99ff-474617b07a78');\n",
              "          const dataTable =\n",
              "            await google.colab.kernel.invokeFunction('convertToInteractive',\n",
              "                                                     [key], {});\n",
              "          if (!dataTable) return;\n",
              "\n",
              "          const docLinkHtml = 'Like what you see? Visit the ' +\n",
              "            '<a target=\"_blank\" href=https://colab.research.google.com/notebooks/data_table.ipynb>data table notebook</a>'\n",
              "            + ' to learn more about interactive tables.';\n",
              "          element.innerHTML = '';\n",
              "          dataTable['output_type'] = 'display_data';\n",
              "          await google.colab.output.renderOutput(dataTable, element);\n",
              "          const docLink = document.createElement('div');\n",
              "          docLink.innerHTML = docLinkHtml;\n",
              "          element.appendChild(docLink);\n",
              "        }\n",
              "      </script>\n",
              "    </div>\n",
              "  </div>\n",
              "  "
            ]
          },
          "metadata": {},
          "execution_count": 192
        }
      ]
    },
    {
      "cell_type": "code",
      "source": [
        "print(train.isna().sum())\n",
        "print('---------------------------------------------------')\n",
        "print(test.isna().sum())\n"
      ],
      "metadata": {
        "colab": {
          "base_uri": "https://localhost:8080/"
        },
        "id": "8bW40tfh3i7v",
        "outputId": "312c69b3-b633-42f1-e03b-80bb27fac9ae"
      },
      "execution_count": 193,
      "outputs": [
        {
          "output_type": "stream",
          "name": "stdout",
          "text": [
            "id                            0\n",
            "timestamp_first_active        0\n",
            "gender                        0\n",
            "age                           0\n",
            "signup_method                 0\n",
            "signup_flow                   0\n",
            "language                      0\n",
            "affiliate_channel             0\n",
            "affiliate_provider            0\n",
            "first_affiliate_tracked    1738\n",
            "signup_app                    0\n",
            "first_device_type             0\n",
            "first_browser                 0\n",
            "country_destination           0\n",
            "tfa_year                      0\n",
            "tfa_month                     0\n",
            "tfa_day                       0\n",
            "dac_year                      0\n",
            "dac_mounth                    0\n",
            "dac_day                       0\n",
            "dtype: int64\n",
            "---------------------------------------------------\n",
            "id                          0\n",
            "date_account_created        0\n",
            "timestamp_first_active      0\n",
            "gender                      0\n",
            "age                         0\n",
            "signup_method               0\n",
            "signup_flow                 0\n",
            "language                    0\n",
            "affiliate_channel           0\n",
            "affiliate_provider          0\n",
            "first_affiliate_tracked    20\n",
            "signup_app                  0\n",
            "first_device_type           0\n",
            "first_browser               0\n",
            "dtype: int64\n"
          ]
        }
      ]
    },
    {
      "cell_type": "code",
      "source": [
        "train = train.drop(['timestamp_first_active'], axis=1)\n"
      ],
      "metadata": {
        "id": "2tpgyENJ_f5Q"
      },
      "execution_count": 194,
      "outputs": []
    },
    {
      "cell_type": "code",
      "source": [
        "train['first_affiliate_tracked'] = train['first_affiliate_tracked'].fillna(train['first_affiliate_tracked'].mode()[0])\n",
        "test['first_affiliate_tracked'] = test['first_affiliate_tracked'].fillna(test['first_affiliate_tracked'].mode()[0])\n",
        "\n"
      ],
      "metadata": {
        "id": "wR52vByv5dcv"
      },
      "execution_count": 195,
      "outputs": []
    },
    {
      "cell_type": "code",
      "source": [
        "# Date_account_created transformation\n",
        "# Separate the day month and year into different columns\n",
        "dac = np.vstack(test.date_account_created.astype(str).apply(lambda x: list(map(int, x.split('-')))).values)\n",
        "print(dac)\n",
        "test['dac_year'] = dac[:,0]\n",
        "test['dac_mounth'] = dac[:,1]\n",
        "test['dac_day'] = dac[:,2]\n",
        "\n",
        "test['date_account_created']=pd.to_datetime(test['date_account_created'])\n",
        "from datetime import datetime\n",
        "l=[]\n",
        "for i in test['date_account_created']:\n",
        "  l.append(i.strftime('%A'))\n",
        "\n",
        "test['dac_day']=l\n",
        "test = test.drop(['date_account_created'], axis = 1)"
      ],
      "metadata": {
        "colab": {
          "base_uri": "https://localhost:8080/"
        },
        "id": "PJdkVBR3-HPj",
        "outputId": "e6266192-f0ed-41dd-a17b-dd8142174182"
      },
      "execution_count": 196,
      "outputs": [
        {
          "output_type": "stream",
          "name": "stdout",
          "text": [
            "[[2014    7    1]\n",
            " [2014    7    1]\n",
            " [2014    7    1]\n",
            " ...\n",
            " [2014    9   30]\n",
            " [2014    9   30]\n",
            " [2014    9   30]]\n"
          ]
        }
      ]
    },
    {
      "cell_type": "code",
      "source": [
        "# timestamp_first_active transformation\n",
        "# Here as well we separate the timestamp first active into day mount and year\n",
        "tfa = np.vstack(test.timestamp_first_active.astype(str).apply(lambda x: list(map(int, [x[:4],x[4:6],x[6:8],x[8:10],x[10:12],x[12:14]]))).values)\n",
        "print(tfa)\n",
        "test['tfa_year'] = tfa[:,0]\n",
        "test['tfa_month'] = tfa[:,1]\n",
        "test['tfa_day'] = tfa[:,2]\n",
        "\n",
        "\n",
        "test['timestamp_first_active']=pd.to_datetime(test['timestamp_first_active'],format='%Y%m%d%H%M%S')\n",
        "from datetime import datetime\n",
        "k=[]\n",
        "for i in test['timestamp_first_active']:\n",
        "  k.append(i.strftime('%A'))\n",
        "\n",
        "test['tfa_day']=k\n",
        "test = test.drop(['timestamp_first_active'], axis = 1)"
      ],
      "metadata": {
        "colab": {
          "base_uri": "https://localhost:8080/"
        },
        "id": "ubww6Fqi-bCW",
        "outputId": "dbf4d4bd-baf8-4589-e5ad-d15fb3529a11"
      },
      "execution_count": 197,
      "outputs": [
        {
          "output_type": "stream",
          "name": "stdout",
          "text": [
            "[[2014    7    1    0    0    6]\n",
            " [2014    7    1    0    0   51]\n",
            " [2014    7    1    0    1   48]\n",
            " ...\n",
            " [2014    9   30   23   54    8]\n",
            " [2014    9   30   23   54   30]\n",
            " [2014    9   30   23   59    1]]\n"
          ]
        }
      ]
    },
    {
      "cell_type": "code",
      "source": [
        "print(train.info())\n",
        "print('---------------------------------------------------')\n",
        "print(test.info())"
      ],
      "metadata": {
        "colab": {
          "base_uri": "https://localhost:8080/"
        },
        "id": "F63Ljs9LAK5e",
        "outputId": "15176598-d64d-42c5-b86f-40d5eb8eaa24"
      },
      "execution_count": 198,
      "outputs": [
        {
          "output_type": "stream",
          "name": "stdout",
          "text": [
            "<class 'pandas.core.frame.DataFrame'>\n",
            "Int64Index: 88908 entries, 2 to 213445\n",
            "Data columns (total 19 columns):\n",
            " #   Column                   Non-Null Count  Dtype   \n",
            "---  ------                   --------------  -----   \n",
            " 0   id                       88908 non-null  object  \n",
            " 1   gender                   88908 non-null  category\n",
            " 2   age                      88908 non-null  float64 \n",
            " 3   signup_method            88908 non-null  category\n",
            " 4   signup_flow              88908 non-null  int64   \n",
            " 5   language                 88908 non-null  category\n",
            " 6   affiliate_channel        88908 non-null  category\n",
            " 7   affiliate_provider       88908 non-null  category\n",
            " 8   first_affiliate_tracked  88908 non-null  category\n",
            " 9   signup_app               88908 non-null  category\n",
            " 10  first_device_type        88908 non-null  category\n",
            " 11  first_browser            88908 non-null  category\n",
            " 12  country_destination      88908 non-null  object  \n",
            " 13  tfa_year                 88908 non-null  int64   \n",
            " 14  tfa_month                88908 non-null  int64   \n",
            " 15  tfa_day                  88908 non-null  object  \n",
            " 16  dac_year                 88908 non-null  int64   \n",
            " 17  dac_mounth               88908 non-null  int64   \n",
            " 18  dac_day                  88908 non-null  object  \n",
            "dtypes: category(9), float64(1), int64(5), object(4)\n",
            "memory usage: 8.2+ MB\n",
            "None\n",
            "---------------------------------------------------\n",
            "<class 'pandas.core.frame.DataFrame'>\n",
            "RangeIndex: 62096 entries, 0 to 62095\n",
            "Data columns (total 18 columns):\n",
            " #   Column                   Non-Null Count  Dtype   \n",
            "---  ------                   --------------  -----   \n",
            " 0   id                       62096 non-null  object  \n",
            " 1   gender                   62096 non-null  category\n",
            " 2   age                      62096 non-null  float64 \n",
            " 3   signup_method            62096 non-null  category\n",
            " 4   signup_flow              62096 non-null  int64   \n",
            " 5   language                 62096 non-null  category\n",
            " 6   affiliate_channel        62096 non-null  category\n",
            " 7   affiliate_provider       62096 non-null  category\n",
            " 8   first_affiliate_tracked  62096 non-null  category\n",
            " 9   signup_app               62096 non-null  category\n",
            " 10  first_device_type        62096 non-null  category\n",
            " 11  first_browser            62096 non-null  category\n",
            " 12  dac_year                 62096 non-null  int64   \n",
            " 13  dac_mounth               62096 non-null  int64   \n",
            " 14  dac_day                  62096 non-null  object  \n",
            " 15  tfa_year                 62096 non-null  int64   \n",
            " 16  tfa_month                62096 non-null  int64   \n",
            " 17  tfa_day                  62096 non-null  object  \n",
            "dtypes: category(9), float64(1), int64(5), object(3)\n",
            "memory usage: 4.8+ MB\n",
            "None\n"
          ]
        }
      ]
    },
    {
      "cell_type": "code",
      "source": [
        "categorical_features=['dac_day', 'tfa_day','id']\n",
        "\n",
        "for i in categorical_features:\n",
        "    train[i] = train[i].astype('category')\n",
        "\n",
        "for i in categorical_features:\n",
        "    test[i] = test[i].astype('category')\n",
        "\n",
        "\n",
        "train['age'] = train['age'].astype(np.int64)"
      ],
      "metadata": {
        "id": "Z9Efj3ogApCy"
      },
      "execution_count": 199,
      "outputs": []
    },
    {
      "cell_type": "code",
      "source": [
        "print(train['gender'].value_counts())\n",
        "print('------------------------------')\n",
        "print(test['gender'].value_counts())\n",
        "\n",
        "\n"
      ],
      "metadata": {
        "colab": {
          "base_uri": "https://localhost:8080/"
        },
        "id": "YZtB_rFo5oVs",
        "outputId": "d9fff047-28b2-451f-a310-fda0377dc5e4"
      },
      "execution_count": 200,
      "outputs": [
        {
          "output_type": "stream",
          "name": "stdout",
          "text": [
            "FEMALE       31993\n",
            "-unknown-    29018\n",
            "MALE         27721\n",
            "OTHER          176\n",
            "Name: gender, dtype: int64\n",
            "------------------------------\n",
            "-unknown-    33792\n",
            "FEMALE       14483\n",
            "MALE         13769\n",
            "OTHER           52\n",
            "Name: gender, dtype: int64\n"
          ]
        }
      ]
    },
    {
      "cell_type": "code",
      "source": [
        "train['gender']=train['gender'].replace('-unknown-' , np.nan)\n",
        "test['gender']=test['gender'].replace('-unknown-' , np.nan)\n"
      ],
      "metadata": {
        "id": "omYAuyTS6Hhk"
      },
      "execution_count": 201,
      "outputs": []
    },
    {
      "cell_type": "code",
      "source": [
        "print('Number of missing values in the train data: ', train.gender.isna().sum())\n",
        "print('---------------------------------------------------')\n",
        "print('Number of missing values in the train data: ', test.gender.isna().sum())\n"
      ],
      "metadata": {
        "colab": {
          "base_uri": "https://localhost:8080/"
        },
        "id": "Zm42Z4-W8QWa",
        "outputId": "13061f75-ba75-4c1f-ab62-2f147173a7ba"
      },
      "execution_count": 202,
      "outputs": [
        {
          "output_type": "stream",
          "name": "stdout",
          "text": [
            "Number of missing values in the train data:  29018\n",
            "---------------------------------------------------\n",
            "Number of missing values in the train data:  33792\n"
          ]
        }
      ]
    },
    {
      "cell_type": "code",
      "source": [
        "train=train.dropna(subset=['gender'])\n",
        "test=test.dropna(subset=['gender'])\n",
        "\n"
      ],
      "metadata": {
        "id": "vVHxU37IBuHB"
      },
      "execution_count": 203,
      "outputs": []
    },
    {
      "cell_type": "code",
      "source": [
        "from sklearn.preprocessing import *\n",
        "encode=LabelEncoder()\n",
        "\n",
        "signup_method_enc=train.signup_method\n",
        "train.signup_method=encode.fit_transform(signup_method_enc)\n",
        "\n",
        "affiliate_channel_enc=train.affiliate_channel\n",
        "train.affiliate_channel=encode.fit_transform(affiliate_channel_enc)\n",
        "\n",
        "affiliate_provider_enc=train.affiliate_provider\n",
        "train.affiliate_provider=encode.fit_transform(affiliate_provider_enc)\n",
        "\n",
        "#signup_app_enc=train.signup_app\n",
        "#train.signup_app=encode.fit_transform(signup_app_enc)\n",
        "\n",
        "signup_app_enc=train.signup_app\n",
        "train.signup_app=encode.fit_transform(signup_app_enc)\n",
        "\n",
        "\n",
        "first_device_type_enc=train.first_device_type\n",
        "train.first_device_type=encode.fit_transform(first_device_type_enc)\n",
        "\n",
        "#first_browser_enc=train.first_browser\n",
        "#train.first_browser=encode.fit_transform(first_browser_enc)\n",
        "\n",
        "first_browser_enc=train.first_browser\n",
        "train.first_browser=encode.fit_transform(first_browser_enc)\n",
        "\n",
        "gender_enc=train.gender\n",
        "train.gender=encode.fit_transform(gender_enc)\n",
        "\n",
        "first_affiliate_tracked_enc=train.first_affiliate_tracked\n",
        "train.first_affiliate_tracked=encode.fit_transform(first_affiliate_tracked_enc)\n",
        "\n",
        "language_enc=train.language\n",
        "train.language=encode.fit_transform(language_enc)\n",
        "\n",
        "dac_day_enc=train.language\n",
        "train.dac_day=encode.fit_transform(dac_day_enc)\n",
        "\n",
        "tfa_day_enc=train.language\n",
        "train.tfa_day=encode.fit_transform(tfa_day_enc)\n",
        "\n"
      ],
      "metadata": {
        "id": "_1RFzZy4jwkr"
      },
      "execution_count": 204,
      "outputs": []
    },
    {
      "cell_type": "code",
      "source": [
        "#xgboost needs to get the columns in the same order\n",
        "train = train.reindex(sorted(train.columns), axis = 1)\n",
        "test = train.reindex(sorted(test.columns), axis = 1)\n"
      ],
      "metadata": {
        "id": "eW8GXXKXW9ef"
      },
      "execution_count": 205,
      "outputs": []
    },
    {
      "cell_type": "code",
      "source": [
        "# Dividing data into X and y\n",
        "X = train.drop(['country_destination', 'id'], axis = 1)\n",
        "y = train['country_destination']\n",
        "\n",
        "\n",
        "from sklearn.preprocessing import LabelEncoder\n",
        "label_encoder = LabelEncoder()\n",
        "encoded_y = label_encoder.fit_transform(y) #Transforming the target variable using labels\n",
        "encoded_y"
      ],
      "metadata": {
        "colab": {
          "base_uri": "https://localhost:8080/"
        },
        "id": "Jk6bkMuMCsiO",
        "outputId": "1655e55d-52d7-4bda-e80b-cadcadf02026"
      },
      "execution_count": 206,
      "outputs": [
        {
          "output_type": "execute_result",
          "data": {
            "text/plain": [
              "array([ 9, 10,  9, ...,  3,  9,  9])"
            ]
          },
          "metadata": {},
          "execution_count": 206
        }
      ]
    },
    {
      "cell_type": "code",
      "source": [
        "train.shape"
      ],
      "metadata": {
        "colab": {
          "base_uri": "https://localhost:8080/"
        },
        "id": "BJp9z2MJTUmK",
        "outputId": "8b0020d3-d36a-4652-9619-295f662a0b25"
      },
      "execution_count": 207,
      "outputs": [
        {
          "output_type": "execute_result",
          "data": {
            "text/plain": [
              "(59890, 19)"
            ]
          },
          "metadata": {},
          "execution_count": 207
        }
      ]
    },
    {
      "cell_type": "code",
      "source": [
        "#Standardizing the age column:\n",
        "from sklearn.preprocessing import StandardScaler\n",
        "\n",
        "st_cols= X[['age']]\n",
        "st_cols= pd.DataFrame(StandardScaler().fit_transform(st_cols), columns=['age'] )\n",
        "\n",
        "X['age'] = st_cols.values\n",
        "X['age']"
      ],
      "metadata": {
        "id": "-hBPXAu5DeHZ",
        "colab": {
          "base_uri": "https://localhost:8080/"
        },
        "outputId": "ff808269-17b3-48f1-bb20-7a00b0eeb33f"
      },
      "execution_count": 208,
      "outputs": [
        {
          "output_type": "execute_result",
          "data": {
            "text/plain": [
              "2         0.055421\n",
              "3        -0.038382\n",
              "6        -0.011581\n",
              "7        -0.004881\n",
              "8         0.015219\n",
              "            ...   \n",
              "213412    0.015219\n",
              "213439   -0.031682\n",
              "213441   -0.091983\n",
              "213443   -0.078583\n",
              "213445   -0.165685\n",
              "Name: age, Length: 59890, dtype: float64"
            ]
          },
          "metadata": {},
          "execution_count": 208
        }
      ]
    },
    {
      "cell_type": "code",
      "source": [
        "from sklearn.model_selection import train_test_split\n",
        "X_train, X_test, y_train, y_test = train_test_split(X, encoded_y, test_size=0.25, random_state=42)"
      ],
      "metadata": {
        "id": "_mV4rU3DDulP"
      },
      "execution_count": 209,
      "outputs": []
    },
    {
      "cell_type": "code",
      "source": [
        "# Using xgboost classifier\n",
        "from xgboost import XGBClassifier, plot_importance\n",
        "xgb = XGBClassifier(use_label_encoder=False)                  \n",
        "xgb.fit(X_train, y_train)\n",
        "#xgb.fit(train_x, y_train)\n",
        "\n",
        "\n",
        "print('Model trained Successfully')"
      ],
      "metadata": {
        "colab": {
          "base_uri": "https://localhost:8080/"
        },
        "id": "i0ESgh9134pH",
        "outputId": "b5bdb556-a72b-4c95-fbb8-3897d19eb48e"
      },
      "execution_count": 210,
      "outputs": [
        {
          "output_type": "stream",
          "name": "stdout",
          "text": [
            "Model trained Successfully\n"
          ]
        }
      ]
    },
    {
      "cell_type": "code",
      "source": [
        "y_pred = xgb.predict(X_test)\n",
        "y_pred"
      ],
      "metadata": {
        "colab": {
          "base_uri": "https://localhost:8080/"
        },
        "id": "XIFUIWzxFmO7",
        "outputId": "8d5fac3a-983f-420c-bc31-91a701cb809e"
      },
      "execution_count": 211,
      "outputs": [
        {
          "output_type": "execute_result",
          "data": {
            "text/plain": [
              "array([9, 9, 9, ..., 9, 9, 9])"
            ]
          },
          "metadata": {},
          "execution_count": 211
        }
      ]
    },
    {
      "cell_type": "code",
      "source": [
        "from sklearn.metrics import confusion_matrix\n",
        "\n",
        "confusion_matrix(y_test, y_pred)"
      ],
      "metadata": {
        "colab": {
          "base_uri": "https://localhost:8080/"
        },
        "id": "0vEKhhvTT-Ef",
        "outputId": "b5cd9ab9-201e-48d4-ea90-4820d24683c2"
      },
      "execution_count": 212,
      "outputs": [
        {
          "output_type": "execute_result",
          "data": {
            "text/plain": [
              "array([[    0,     0,     0,     0,     0,     0,     0,     0,     0,\n",
              "          101,     0],\n",
              "       [    0,     0,     0,     0,     0,     0,     0,     0,     0,\n",
              "          241,     0],\n",
              "       [    0,     0,     0,     0,     0,     0,     0,     0,     0,\n",
              "          205,     0],\n",
              "       [    0,     0,     0,     0,     0,     0,     0,     0,     0,\n",
              "          363,     0],\n",
              "       [    0,     0,     0,     0,     0,     0,     0,     0,     0,\n",
              "          840,     0],\n",
              "       [    0,     0,     0,     0,     0,     0,     0,     0,     0,\n",
              "          385,     0],\n",
              "       [    0,     0,     0,     0,     0,     0,     0,     0,     0,\n",
              "          447,     0],\n",
              "       [    0,     0,     0,     0,     0,     0,     0,     0,     0,\n",
              "          127,     0],\n",
              "       [    0,     0,     0,     0,     0,     0,     0,     0,     0,\n",
              "           44,     0],\n",
              "       [    0,     0,     0,     0,     0,     0,     0,     0,     0,\n",
              "        10632,     0],\n",
              "       [    0,     0,     0,     0,     0,     0,     0,     0,     0,\n",
              "         1588,     0]])"
            ]
          },
          "metadata": {},
          "execution_count": 212
        }
      ]
    },
    {
      "cell_type": "code",
      "source": [
        "from sklearn.metrics import classification_report\n",
        "\n",
        "print(\"classification report of xgb:\\n \",classification_report(y_test,y_pred))\n"
      ],
      "metadata": {
        "colab": {
          "base_uri": "https://localhost:8080/"
        },
        "id": "NCAhauj5FMfA",
        "outputId": "0f8535db-e3ec-4005-aa8b-1256c8369fc2"
      },
      "execution_count": 213,
      "outputs": [
        {
          "output_type": "stream",
          "name": "stdout",
          "text": [
            "classification report of xgb:\n",
            "                precision    recall  f1-score   support\n",
            "\n",
            "           0       0.00      0.00      0.00       101\n",
            "           1       0.00      0.00      0.00       241\n",
            "           2       0.00      0.00      0.00       205\n",
            "           3       0.00      0.00      0.00       363\n",
            "           4       0.00      0.00      0.00       840\n",
            "           5       0.00      0.00      0.00       385\n",
            "           6       0.00      0.00      0.00       447\n",
            "           7       0.00      0.00      0.00       127\n",
            "           8       0.00      0.00      0.00        44\n",
            "           9       0.71      1.00      0.83     10632\n",
            "          10       0.00      0.00      0.00      1588\n",
            "\n",
            "    accuracy                           0.71     14973\n",
            "   macro avg       0.06      0.09      0.08     14973\n",
            "weighted avg       0.50      0.71      0.59     14973\n",
            "\n"
          ]
        }
      ]
    },
    {
      "cell_type": "code",
      "source": [
        "from sklearn.metrics import precision_score\n",
        "print('Accuracy of xgb:' , accuracy_score(y_test, y_pred))\n",
        "print(\"precision of xgb\",precision_score(y_test, y_pred,average='weighted'))"
      ],
      "metadata": {
        "colab": {
          "base_uri": "https://localhost:8080/"
        },
        "id": "KfsfgDgeXBM0",
        "outputId": "c363d010-d59e-46c3-9f22-aed5027fe7fc"
      },
      "execution_count": 214,
      "outputs": [
        {
          "output_type": "stream",
          "name": "stdout",
          "text": [
            "Accuracy of xgb: 0.7100781406531758\n",
            "precision of xgb 0.5042109658334712\n"
          ]
        }
      ]
    },
    {
      "cell_type": "code",
      "source": [
        "plt.figure(figsize=(50,90))\n",
        "\n",
        "plot_importance(xgb, max_num_features=10)\n",
        "f_importances= xgb.feature_importances_"
      ],
      "metadata": {
        "colab": {
          "base_uri": "https://localhost:8080/",
          "height": 313
        },
        "id": "MsNX81ZFF5T4",
        "outputId": "a4f8e897-1a97-4911-d949-79097bbfe985"
      },
      "execution_count": 215,
      "outputs": [
        {
          "output_type": "display_data",
          "data": {
            "text/plain": [
              "<Figure size 3600x6480 with 0 Axes>"
            ]
          },
          "metadata": {}
        },
        {
          "output_type": "display_data",
          "data": {
            "text/plain": [
              "<Figure size 432x288 with 1 Axes>"
            ],
            "image/png": "[encoded data removed]"
          },
          "metadata": {
            "needs_background": "light"
          }
        }
      ]
    },
    {
      "cell_type": "code",
      "source": [
        "# Change parameters of xgboost\n",
        "from xgboost import XGBClassifier, plot_importance\n",
        "xgb2 = XGBClassifier(use_label_encoder=True,max_depth=4, learning_rate=0.2, n_estimators=50,\n",
        "                    objective='multi:softmax' #subsample=0.6, colsample_bytree=0.6, silent=0\n",
        "                     )                  \n",
        "xgb2.fit(X_train, y_train)\n",
        "\n",
        "print('xgb2 trained Successfully')"
      ],
      "metadata": {
        "colab": {
          "base_uri": "https://localhost:8080/"
        },
        "id": "2gcc0Bk-Td3Y",
        "outputId": "4ba10cc7-b309-41bc-a5e3-cfa7b6248bb2"
      },
      "execution_count": 216,
      "outputs": [
        {
          "output_type": "stream",
          "name": "stdout",
          "text": [
            "xgb2 trained Successfully\n"
          ]
        }
      ]
    },
    {
      "cell_type": "code",
      "source": [
        "y_pred2 = xgb2.predict(X_test)"
      ],
      "metadata": {
        "id": "dmv3ysWhUBRX"
      },
      "execution_count": 217,
      "outputs": []
    },
    {
      "cell_type": "code",
      "source": [
        "print('Accuracy of xgb2:', accuracy_score(y_test, y_pred2))\n",
        "print('Precision of xgb2: ', precision_score(y_test, y_pred,average='weighted'))"
      ],
      "metadata": {
        "colab": {
          "base_uri": "https://localhost:8080/"
        },
        "id": "T7hpnKthTkLT",
        "outputId": "f1fcfb1f-9bcb-4f23-a837-10143b31ce01"
      },
      "execution_count": 218,
      "outputs": [
        {
          "output_type": "stream",
          "name": "stdout",
          "text": [
            "Accuracy of xgb2: 0.7099445668870634\n",
            "Precision of xgb2:  0.5042109658334712\n"
          ]
        }
      ]
    },
    {
      "cell_type": "code",
      "source": [
        "from sklearn.metrics import confusion_matrix\n",
        "\n",
        "confusion_matrix(y_test, y_pred2)"
      ],
      "metadata": {
        "colab": {
          "base_uri": "https://localhost:8080/"
        },
        "id": "pt7r_n-fVAnR",
        "outputId": "f9abb06c-cc69-4525-c7f4-42bc36e579d3"
      },
      "execution_count": 219,
      "outputs": [
        {
          "output_type": "execute_result",
          "data": {
            "text/plain": [
              "array([[    0,     0,     0,     0,     0,     0,     0,     0,     0,\n",
              "          101,     0],\n",
              "       [    0,     0,     0,     0,     0,     0,     0,     0,     0,\n",
              "          241,     0],\n",
              "       [    0,     0,     0,     0,     0,     0,     0,     0,     0,\n",
              "          205,     0],\n",
              "       [    0,     0,     0,     0,     0,     0,     0,     0,     0,\n",
              "          363,     0],\n",
              "       [    0,     0,     0,     0,     0,     0,     0,     0,     0,\n",
              "          840,     0],\n",
              "       [    0,     0,     0,     0,     0,     0,     0,     0,     0,\n",
              "          385,     0],\n",
              "       [    0,     0,     0,     0,     0,     0,     0,     0,     0,\n",
              "          447,     0],\n",
              "       [    0,     0,     0,     0,     0,     0,     0,     0,     0,\n",
              "          127,     0],\n",
              "       [    0,     0,     0,     0,     0,     0,     0,     0,     0,\n",
              "           44,     0],\n",
              "       [    0,     0,     0,     0,     1,     0,     0,     0,     0,\n",
              "        10630,     1],\n",
              "       [    0,     0,     0,     0,     0,     0,     0,     0,     0,\n",
              "         1588,     0]])"
            ]
          },
          "metadata": {},
          "execution_count": 219
        }
      ]
    },
    {
      "cell_type": "code",
      "source": [
        "from sklearn.metrics import classification_report\n",
        "\n",
        "print(\"classification report of xgb2: \", classification_report(y_test,y_pred2))\n"
      ],
      "metadata": {
        "colab": {
          "base_uri": "https://localhost:8080/"
        },
        "id": "6aAi0y7pFKG5",
        "outputId": "95403e7c-ed61-4d8d-e633-221cc6f30223"
      },
      "execution_count": 220,
      "outputs": [
        {
          "output_type": "stream",
          "name": "stdout",
          "text": [
            "classification report of xgb2:                precision    recall  f1-score   support\n",
            "\n",
            "           0       0.00      0.00      0.00       101\n",
            "           1       0.00      0.00      0.00       241\n",
            "           2       0.00      0.00      0.00       205\n",
            "           3       0.00      0.00      0.00       363\n",
            "           4       0.00      0.00      0.00       840\n",
            "           5       0.00      0.00      0.00       385\n",
            "           6       0.00      0.00      0.00       447\n",
            "           7       0.00      0.00      0.00       127\n",
            "           8       0.00      0.00      0.00        44\n",
            "           9       0.71      1.00      0.83     10632\n",
            "          10       0.00      0.00      0.00      1588\n",
            "\n",
            "    accuracy                           0.71     14973\n",
            "   macro avg       0.06      0.09      0.08     14973\n",
            "weighted avg       0.50      0.71      0.59     14973\n",
            "\n"
          ]
        }
      ]
    },
    {
      "cell_type": "code",
      "source": [
        "plt.figure(figsize=(50,90))\n",
        "\n",
        "plot_importance(xgb2, max_num_features=10)\n",
        "f_importances= xgb2.feature_importances_"
      ],
      "metadata": {
        "colab": {
          "base_uri": "https://localhost:8080/",
          "height": 313
        },
        "id": "FN0pPMsL8qH9",
        "outputId": "bc4230bf-93b1-43a9-bcc5-1d4025a93ac5"
      },
      "execution_count": 221,
      "outputs": [
        {
          "output_type": "display_data",
          "data": {
            "text/plain": [
              "<Figure size 3600x6480 with 0 Axes>"
            ]
          },
          "metadata": {}
        },
        {
          "output_type": "display_data",
          "data": {
            "text/plain": [
              "<Figure size 432x288 with 1 Axes>"
            ],
            "image/png": "[encoded data removed]"
          },
          "metadata": {
            "needs_background": "light"
          }
        }
      ]
    },
    {
      "cell_type": "code",
      "source": [
        "# Change parameters of xgboost\n",
        "from xgboost import XGBClassifier, plot_importance\n",
        "xgb3 = XGBClassifier(max_depth=3, Min_Child_weight=5, learning_rate=0.2, n_estimators=50,\n",
        "                    objective='multi:softmax', subsample=0.2, colsample_bytree=0.2, silent=0\n",
        "                     )                  \n",
        "xgb3.fit(X_train, y_train)\n",
        "\n",
        "print('xgb3 trained Successfully')"
      ],
      "metadata": {
        "colab": {
          "base_uri": "https://localhost:8080/"
        },
        "id": "5LTcRQg2ebty",
        "outputId": "15583653-bff6-4be9-edf2-710d899e7e2a"
      },
      "execution_count": 222,
      "outputs": [
        {
          "output_type": "stream",
          "name": "stdout",
          "text": [
            "xgb3 trained Successfully\n"
          ]
        }
      ]
    },
    {
      "cell_type": "code",
      "source": [
        "y_pred8 = xgb3.predict(X_test)"
      ],
      "metadata": {
        "id": "1o26MXTlfT-p"
      },
      "execution_count": 223,
      "outputs": []
    },
    {
      "cell_type": "code",
      "source": [
        "from sklearn.metrics import classification_report\n",
        "\n",
        "print(\"classification report of xgb3: \", classification_report(y_test,y_pred8))\n"
      ],
      "metadata": {
        "colab": {
          "base_uri": "https://localhost:8080/"
        },
        "id": "v-AxFL-kfO9v",
        "outputId": "e552d2ea-bd03-44ff-c0f7-71e0806249c1"
      },
      "execution_count": 224,
      "outputs": [
        {
          "output_type": "stream",
          "name": "stdout",
          "text": [
            "classification report of xgb3:                precision    recall  f1-score   support\n",
            "\n",
            "           0       0.00      0.00      0.00       101\n",
            "           1       0.00      0.00      0.00       241\n",
            "           2       0.00      0.00      0.00       205\n",
            "           3       0.00      0.00      0.00       363\n",
            "           4       0.00      0.00      0.00       840\n",
            "           5       0.00      0.00      0.00       385\n",
            "           6       0.00      0.00      0.00       447\n",
            "           7       0.00      0.00      0.00       127\n",
            "           8       0.00      0.00      0.00        44\n",
            "           9       0.71      1.00      0.83     10632\n",
            "          10       0.00      0.00      0.00      1588\n",
            "\n",
            "    accuracy                           0.71     14973\n",
            "   macro avg       0.06      0.09      0.08     14973\n",
            "weighted avg       0.50      0.71      0.59     14973\n",
            "\n"
          ]
        }
      ]
    },
    {
      "cell_type": "code",
      "source": [
        "#using Adaboost\n",
        "Adaboost= AdaBoostClassifier(random_state=96)\n",
        "\n",
        "Adaboost.fit(X_train, y_train)\n",
        "\n",
        "print(\"adaboost Trained succesfully!\")"
      ],
      "metadata": {
        "colab": {
          "base_uri": "https://localhost:8080/"
        },
        "id": "A0KpYy1DInyz",
        "outputId": "97b4e52e-cd58-4ab3-83c6-e3849988ed23"
      },
      "execution_count": 225,
      "outputs": [
        {
          "output_type": "stream",
          "name": "stdout",
          "text": [
            "adaboost Trained succesfully!\n"
          ]
        }
      ]
    },
    {
      "cell_type": "code",
      "source": [
        "y_pred3=Adaboost.predict(X_test)\n",
        "y_pred3"
      ],
      "metadata": {
        "colab": {
          "base_uri": "https://localhost:8080/"
        },
        "id": "fW-o_NfoJUJ2",
        "outputId": "b340cdec-6b90-492f-d0e9-df5cd6e23a1d"
      },
      "execution_count": 226,
      "outputs": [
        {
          "output_type": "execute_result",
          "data": {
            "text/plain": [
              "array([9, 9, 9, ..., 9, 9, 9])"
            ]
          },
          "metadata": {},
          "execution_count": 226
        }
      ]
    },
    {
      "cell_type": "code",
      "source": [
        "print('Accuracy of adaboost: ', accuracy_score(y_test, y_pred3))\n",
        "print('Precision of Adaboost: ', precision_score(y_test, y_pred3,average='weighted'))"
      ],
      "metadata": {
        "colab": {
          "base_uri": "https://localhost:8080/"
        },
        "id": "UMVTzZjVJeMm",
        "outputId": "596d5589-cb6f-4269-c1ef-d025a322e5a7"
      },
      "execution_count": 227,
      "outputs": [
        {
          "output_type": "stream",
          "name": "stdout",
          "text": [
            "Accuracy of adaboost:  0.7017965671542109\n",
            "Precision of Adaboost:  0.5039511753332142\n"
          ]
        }
      ]
    },
    {
      "cell_type": "code",
      "source": [
        "from sklearn.metrics import confusion_matrix\n",
        "\n",
        "print(\"Confusion matrix of rfc:\\n\",confusion_matrix(y_test, y_pred3))"
      ],
      "metadata": {
        "colab": {
          "base_uri": "https://localhost:8080/"
        },
        "id": "z145-Q7RVIZO",
        "outputId": "236e5ead-ffbd-4a0c-c612-6864eaee76f9"
      },
      "execution_count": 228,
      "outputs": [
        {
          "output_type": "stream",
          "name": "stdout",
          "text": [
            "Confusion matrix of rfc:\n",
            " [[    0     0     0     0     0     0     0     0     0   101     0]\n",
            " [    0     0     0     0     0     0     0     0     3   238     0]\n",
            " [    0     0     0     0     0     0     0     0     2   203     0]\n",
            " [    0     0     0     0     0     0     0     0     3   360     0]\n",
            " [    0     0     0     0     0     0     0     0     7   833     0]\n",
            " [    0     0     0     0     0     0     0     0     1   384     0]\n",
            " [    0     0     0     0     0     0     0     0     5   442     0]\n",
            " [    0     0     0     0     0     0     0     0     0   127     0]\n",
            " [    0     0     0     0     0     0     0     0     0    44     0]\n",
            " [    0     0     0     0     0     0     0     0   124 10508     0]\n",
            " [    0     0     0     0     0     0     0     0    22  1566     0]]\n"
          ]
        }
      ]
    },
    {
      "cell_type": "code",
      "source": [
        "from sklearn.metrics import classification_report\n",
        "\n",
        "print(\"Classification report od Adaboost: \\n\",classification_report(y_test,y_pred3))\n"
      ],
      "metadata": {
        "colab": {
          "base_uri": "https://localhost:8080/"
        },
        "id": "XjrMIg_ZFDrA",
        "outputId": "295cc4aa-3647-4af1-c28b-2cff2f26fbbd"
      },
      "execution_count": 229,
      "outputs": [
        {
          "output_type": "stream",
          "name": "stdout",
          "text": [
            "Classification report od Adaboost: \n",
            "               precision    recall  f1-score   support\n",
            "\n",
            "           0       0.00      0.00      0.00       101\n",
            "           1       0.00      0.00      0.00       241\n",
            "           2       0.00      0.00      0.00       205\n",
            "           3       0.00      0.00      0.00       363\n",
            "           4       0.00      0.00      0.00       840\n",
            "           5       0.00      0.00      0.00       385\n",
            "           6       0.00      0.00      0.00       447\n",
            "           7       0.00      0.00      0.00       127\n",
            "           8       0.00      0.00      0.00        44\n",
            "           9       0.71      0.99      0.83     10632\n",
            "          10       0.00      0.00      0.00      1588\n",
            "\n",
            "    accuracy                           0.70     14973\n",
            "   macro avg       0.06      0.09      0.08     14973\n",
            "weighted avg       0.50      0.70      0.59     14973\n",
            "\n"
          ]
        }
      ]
    },
    {
      "cell_type": "code",
      "source": [
        "\n",
        "features = X_train.columns\n",
        "importances = Adaboost.feature_importances_\n",
        "\n",
        "indices = (np.argsort(importances))[-25:]\n",
        "plt.figure(figsize=(6,9))\n",
        "plt.title('Feature Importances')\n",
        "plt.barh(range(len(indices)), importances[indices], color='r', align='center')\n",
        "\n",
        "plt.yticks(range(len(indices)), [features[i] for i in indices])\n",
        "plt.xlabel('Relative Importance')\n",
        "plt.show()\n"
      ],
      "metadata": {
        "colab": {
          "base_uri": "https://localhost:8080/",
          "height": 567
        },
        "id": "bkVLE-_i8_3r",
        "outputId": "d1278cc4-bca6-40a1-b687-213353352048"
      },
      "execution_count": 230,
      "outputs": [
        {
          "output_type": "display_data",
          "data": {
            "text/plain": [
              "<Figure size 432x648 with 1 Axes>"
            ],
            "image/png": "[encoded data removed]"
          },
          "metadata": {
            "needs_background": "light"
          }
        }
      ]
    },
    {
      "cell_type": "code",
      "source": [
        "#using random forest\n",
        "from sklearn.ensemble import RandomForestClassifier\n",
        "\n",
        "rfc= RandomForestClassifier(n_estimators=100)\n",
        "rfc.fit(X_train,y_train)\n",
        "\n",
        "print(\"rfc Trained succesfully!\")\n"
      ],
      "metadata": {
        "colab": {
          "base_uri": "https://localhost:8080/"
        },
        "id": "RBAjEw3OGnoV",
        "outputId": "7895e983-c76e-4359-da16-8519db7b2bfd"
      },
      "execution_count": 231,
      "outputs": [
        {
          "output_type": "stream",
          "name": "stdout",
          "text": [
            "rfc Trained succesfully!\n"
          ]
        }
      ]
    },
    {
      "cell_type": "code",
      "source": [
        "y_pred4=rfc.predict(X_test)\n",
        "y_pred4"
      ],
      "metadata": {
        "colab": {
          "base_uri": "https://localhost:8080/"
        },
        "id": "JXlWQq7kIbrF",
        "outputId": "9fadf436-55c7-4d33-862d-6dc778e34568"
      },
      "execution_count": 232,
      "outputs": [
        {
          "output_type": "execute_result",
          "data": {
            "text/plain": [
              "array([9, 9, 9, ..., 9, 1, 9])"
            ]
          },
          "metadata": {},
          "execution_count": 232
        }
      ]
    },
    {
      "cell_type": "code",
      "source": [
        "print('Accuracy of rfc:',  accuracy_score(y_test, y_pred4))\n",
        "print('Precision of rfc: ', precision_score(y_test, y_pred4,average='weighted'))"
      ],
      "metadata": {
        "colab": {
          "base_uri": "https://localhost:8080/"
        },
        "id": "jQs0zkVcIlrp",
        "outputId": "9c3c0589-72e2-4a8e-8eb0-cbe83124f248"
      },
      "execution_count": 233,
      "outputs": [
        {
          "output_type": "stream",
          "name": "stdout",
          "text": [
            "Accuracy of rfc: 0.6423562412342216\n",
            "Precision of rfc:  0.5244847302367083\n"
          ]
        }
      ]
    },
    {
      "cell_type": "code",
      "source": [
        "from sklearn.metrics import confusion_matrix\n",
        "\n",
        "print(\"Confusion matrix of rfc: \\n\",confusion_matrix(y_test, y_pred4))"
      ],
      "metadata": {
        "colab": {
          "base_uri": "https://localhost:8080/"
        },
        "id": "5sb6wzisVTAs",
        "outputId": "36a91f14-64fe-4fc6-c654-f223f5205dd2"
      },
      "execution_count": 234,
      "outputs": [
        {
          "output_type": "stream",
          "name": "stdout",
          "text": [
            "Confusion matrix of rfc: \n",
            " [[   1    0    0    2    3    1    1    0    0   91    2]\n",
            " [   1    0    1    1    6    1    2    0    1  220    8]\n",
            " [   0    0    3    0    7    3    5    0    0  178    9]\n",
            " [   1    1    0    3    9    6    3    2    0  326   12]\n",
            " [   5    5    6   11   15    5    6    1    1  743   42]\n",
            " [   1    3    2    1    9    7    5    1    0  337   19]\n",
            " [   2    6    3    3    7    3    7    2    1  393   20]\n",
            " [   0    0    0    0    3    0    1    2    0  116    5]\n",
            " [   1    0    0    0    1    1    1    0    0   38    2]\n",
            " [  32   50   34   86  207   88   98   27    9 9503  498]\n",
            " [   8    7    3   14   23   12   19    9    1 1415   77]]\n"
          ]
        }
      ]
    },
    {
      "cell_type": "code",
      "source": [
        "from sklearn.metrics import classification_report\n",
        "\n",
        "print(\"classification report of rfc: \\n\", classification_report(y_test,y_pred4))\n"
      ],
      "metadata": {
        "colab": {
          "base_uri": "https://localhost:8080/"
        },
        "id": "uAzm40nyE7ak",
        "outputId": "064bc96f-6cc0-4931-a1b1-54ef45d49b50"
      },
      "execution_count": 235,
      "outputs": [
        {
          "output_type": "stream",
          "name": "stdout",
          "text": [
            "classification report of rfc: \n",
            "               precision    recall  f1-score   support\n",
            "\n",
            "           0       0.02      0.01      0.01       101\n",
            "           1       0.00      0.00      0.00       241\n",
            "           2       0.06      0.01      0.02       205\n",
            "           3       0.02      0.01      0.01       363\n",
            "           4       0.05      0.02      0.03       840\n",
            "           5       0.06      0.02      0.03       385\n",
            "           6       0.05      0.02      0.02       447\n",
            "           7       0.05      0.02      0.02       127\n",
            "           8       0.00      0.00      0.00        44\n",
            "           9       0.71      0.89      0.79     10632\n",
            "          10       0.11      0.05      0.07      1588\n",
            "\n",
            "    accuracy                           0.64     14973\n",
            "   macro avg       0.10      0.09      0.09     14973\n",
            "weighted avg       0.52      0.64      0.57     14973\n",
            "\n"
          ]
        }
      ]
    },
    {
      "cell_type": "code",
      "source": [
        "\n",
        "features = X_train.columns\n",
        "importances = rfc.feature_importances_\n",
        "\n",
        "indices = (np.argsort(importances))[-25:]\n",
        "plt.figure(figsize=(6,9))\n",
        "plt.title('Feature Importances')\n",
        "plt.barh(range(len(indices)), importances[indices], color='r', align='center')\n",
        "\n",
        "plt.yticks(range(len(indices)), [features[i] for i in indices])\n",
        "plt.xlabel('Relative Importance')\n",
        "plt.show()\n"
      ],
      "metadata": {
        "colab": {
          "base_uri": "https://localhost:8080/",
          "height": 567
        },
        "id": "T_kxqGS3ZpyO",
        "outputId": "e3a9773e-9f2a-4026-bd2c-83a861b307af"
      },
      "execution_count": 236,
      "outputs": [
        {
          "output_type": "display_data",
          "data": {
            "text/plain": [
              "<Figure size 432x648 with 1 Axes>"
            ],
            "image/png": "[encoded data removed]"
          },
          "metadata": {
            "needs_background": "light"
          }
        }
      ]
    },
    {
      "cell_type": "code",
      "source": [
        "#using KNN\n",
        "from sklearn.neighbors import KNeighborsClassifier\n",
        "\n",
        "knn = KNeighborsClassifier(n_neighbors=9)\n",
        "  \n",
        "knn.fit(X_train, y_train)\n",
        "  \n"
      ],
      "metadata": {
        "colab": {
          "base_uri": "https://localhost:8080/"
        },
        "id": "IPEuiXsr-9If",
        "outputId": "016e3e6d-154b-4c32-a2fe-381832dd8ad1"
      },
      "execution_count": 237,
      "outputs": [
        {
          "output_type": "execute_result",
          "data": {
            "text/plain": [
              "KNeighborsClassifier(n_neighbors=9)"
            ]
          },
          "metadata": {},
          "execution_count": 237
        }
      ]
    },
    {
      "cell_type": "code",
      "source": [
        "y_pred5=knn.predict(X_test)\n",
        "y_pred5"
      ],
      "metadata": {
        "colab": {
          "base_uri": "https://localhost:8080/"
        },
        "id": "oRmTrvxy_FVr",
        "outputId": "0a9295b9-3094-4398-89f1-71551c9725be"
      },
      "execution_count": 238,
      "outputs": [
        {
          "output_type": "execute_result",
          "data": {
            "text/plain": [
              "array([9, 9, 9, ..., 9, 9, 9])"
            ]
          },
          "metadata": {},
          "execution_count": 238
        }
      ]
    },
    {
      "cell_type": "code",
      "source": [
        "print('Accuracy of knn:',  accuracy_score(y_test, y_pred5))\n",
        "print('Precision of knn: ', precision_score(y_test, y_pred5,average='weighted'))"
      ],
      "metadata": {
        "colab": {
          "base_uri": "https://localhost:8080/"
        },
        "id": "X-5IODeh_RI0",
        "outputId": "8c089068-b415-4262-9a3c-ce27ce828cc7"
      },
      "execution_count": 239,
      "outputs": [
        {
          "output_type": "stream",
          "name": "stdout",
          "text": [
            "Accuracy of knn: 0.7021972884525479\n",
            "Precision of knn:  0.5230637545033064\n"
          ]
        }
      ]
    },
    {
      "cell_type": "code",
      "source": [
        "from sklearn.metrics import confusion_matrix\n",
        "\n",
        "print(\"Confusion matrix of knn: \\n\", confusion_matrix(y_test, y_pred5))"
      ],
      "metadata": {
        "colab": {
          "base_uri": "https://localhost:8080/"
        },
        "id": "clZYnwjVjhB0",
        "outputId": "cec9c50a-9baa-4f40-f0d0-930040fcc437"
      },
      "execution_count": 240,
      "outputs": [
        {
          "output_type": "stream",
          "name": "stdout",
          "text": [
            "Confusion matrix of knn: \n",
            " [[    0     0     0     0     0     0     0     0     0   101     0]\n",
            " [    0     0     0     1     5     1     0     0     0   233     1]\n",
            " [    0     0     0     0     0     0     1     1     0   202     1]\n",
            " [    0     1     0     0     1     2     0     0     0   357     2]\n",
            " [    0     1     1     1     6     1     0     0     0   826     4]\n",
            " [    0     0     0     1     2     0     1     0     0   379     2]\n",
            " [    0     0     0     0     3     0     1     0     0   440     3]\n",
            " [    0     0     0     0     2     0     0     0     0   125     0]\n",
            " [    0     0     0     1     0     0     0     0     0    40     3]\n",
            " [    0     1     1     8    51     7    12     1     0 10498    53]\n",
            " [    0     0     0     0     7     1     2     0     0  1569     9]]\n"
          ]
        }
      ]
    },
    {
      "cell_type": "code",
      "source": [
        "from sklearn.metrics import classification_report\n",
        "\n",
        "print(\"Classification report of knn:\\n\", classification_report(y_test,y_pred5))\n"
      ],
      "metadata": {
        "colab": {
          "base_uri": "https://localhost:8080/"
        },
        "id": "KrB3sWirCVT7",
        "outputId": "be00c64d-be07-41fa-83a1-40f61649944d"
      },
      "execution_count": 241,
      "outputs": [
        {
          "output_type": "stream",
          "name": "stdout",
          "text": [
            "Classification report of knn:\n",
            "               precision    recall  f1-score   support\n",
            "\n",
            "           0       0.00      0.00      0.00       101\n",
            "           1       0.00      0.00      0.00       241\n",
            "           2       0.00      0.00      0.00       205\n",
            "           3       0.00      0.00      0.00       363\n",
            "           4       0.08      0.01      0.01       840\n",
            "           5       0.00      0.00      0.00       385\n",
            "           6       0.06      0.00      0.00       447\n",
            "           7       0.00      0.00      0.00       127\n",
            "           8       0.00      0.00      0.00        44\n",
            "           9       0.71      0.99      0.83     10632\n",
            "          10       0.12      0.01      0.01      1588\n",
            "\n",
            "    accuracy                           0.70     14973\n",
            "   macro avg       0.09      0.09      0.08     14973\n",
            "weighted avg       0.52      0.70      0.59     14973\n",
            "\n"
          ]
        }
      ]
    },
    {
      "cell_type": "code",
      "source": [
        "#using Gradientboost\n",
        "\n",
        "from sklearn.ensemble import GradientBoostingClassifier\n",
        "\n",
        "model = GradientBoostingClassifier()\n",
        "  \n",
        "model.fit(X_train, y_train)\n",
        "  \n",
        "print(\"Gradientboosting Trained succesfully!\")\n"
      ],
      "metadata": {
        "colab": {
          "base_uri": "https://localhost:8080/"
        },
        "id": "Qf_uvGJJLfTe",
        "outputId": "f547aece-86f9-4ae2-b716-5e0e2eda54ea"
      },
      "execution_count": 242,
      "outputs": [
        {
          "output_type": "stream",
          "name": "stdout",
          "text": [
            "Gradientboosting Trained succesfully!\n"
          ]
        }
      ]
    },
    {
      "cell_type": "code",
      "source": [
        "y_pred7=model.predict(X_test)\n",
        "y_pred7"
      ],
      "metadata": {
        "colab": {
          "base_uri": "https://localhost:8080/"
        },
        "id": "1lcKDstxL9hV",
        "outputId": "d91b9e52-99de-4cf4-fb67-9e8901355c75"
      },
      "execution_count": 243,
      "outputs": [
        {
          "output_type": "execute_result",
          "data": {
            "text/plain": [
              "array([9, 9, 9, ..., 9, 9, 9])"
            ]
          },
          "metadata": {},
          "execution_count": 243
        }
      ]
    },
    {
      "cell_type": "code",
      "source": [
        "print('Accuracy of Gradientboosting:',  accuracy_score(y_test, y_pred7))\n",
        "print('Precision of Gradientbossting: ', precision_score(y_test, y_pred5,average='weighted'))"
      ],
      "metadata": {
        "colab": {
          "base_uri": "https://localhost:8080/"
        },
        "id": "kFqFiq7jL_Pf",
        "outputId": "7418a5d4-9a83-47e8-ba16-043c4db2345e"
      },
      "execution_count": 244,
      "outputs": [
        {
          "output_type": "stream",
          "name": "stdout",
          "text": [
            "Accuracy of Gradientboosting: 0.7089427636412209\n",
            "Precision of Gradientbossting:  0.5230637545033064\n"
          ]
        }
      ]
    },
    {
      "cell_type": "code",
      "source": [
        "from sklearn.metrics import confusion_matrix\n",
        "\n",
        "print(\"Confusion matrix of gradientboosting:\\n\", confusion_matrix(y_test, y_pred7))"
      ],
      "metadata": {
        "colab": {
          "base_uri": "https://localhost:8080/"
        },
        "id": "bSpUPb_xkDv5",
        "outputId": "a951406f-bd1f-462f-a06f-c74ff18586dc"
      },
      "execution_count": 245,
      "outputs": [
        {
          "output_type": "stream",
          "name": "stdout",
          "text": [
            "Confusion matrix of gradientboosting:\n",
            " [[    0     0     0     0     0     0     0     0     0   101     0]\n",
            " [    0     0     0     0     0     0     0     0     0   241     0]\n",
            " [    0     0     1     0     0     0     0     0     0   204     0]\n",
            " [    0     0     1     0     0     0     0     0     0   362     0]\n",
            " [    1     0     0     0     0     0     0     0     0   839     0]\n",
            " [    0     0     0     0     0     0     0     0     0   385     0]\n",
            " [    0     0     0     0     0     0     0     0     0   447     0]\n",
            " [    0     0     0     0     0     0     0     0     0   127     0]\n",
            " [    0     0     0     0     0     0     0     0     0    44     0]\n",
            " [    4     1     1     2     2     3     0     0     2 10614     3]\n",
            " [    0     0     0     1     0     0     0     0     0  1587     0]]\n"
          ]
        }
      ]
    },
    {
      "cell_type": "code",
      "source": [
        "from sklearn.metrics import classification_report\n",
        "\n",
        "print(\"classification report of gradientboosting: \\n\", classification_report(y_test,y_pred7))\n"
      ],
      "metadata": {
        "colab": {
          "base_uri": "https://localhost:8080/"
        },
        "id": "r-lDD2oPMch7",
        "outputId": "13c5307c-3056-4841-8e4e-dd2758ba349d"
      },
      "execution_count": 246,
      "outputs": [
        {
          "output_type": "stream",
          "name": "stdout",
          "text": [
            "classification report of gradientboosting: \n",
            "               precision    recall  f1-score   support\n",
            "\n",
            "           0       0.00      0.00      0.00       101\n",
            "           1       0.00      0.00      0.00       241\n",
            "           2       0.33      0.00      0.01       205\n",
            "           3       0.00      0.00      0.00       363\n",
            "           4       0.00      0.00      0.00       840\n",
            "           5       0.00      0.00      0.00       385\n",
            "           6       0.00      0.00      0.00       447\n",
            "           7       0.00      0.00      0.00       127\n",
            "           8       0.00      0.00      0.00        44\n",
            "           9       0.71      1.00      0.83     10632\n",
            "          10       0.00      0.00      0.00      1588\n",
            "\n",
            "    accuracy                           0.71     14973\n",
            "   macro avg       0.09      0.09      0.08     14973\n",
            "weighted avg       0.51      0.71      0.59     14973\n",
            "\n"
          ]
        }
      ]
    },
    {
      "cell_type": "code",
      "source": [
        "from sklearn.preprocessing import *\n",
        "encode=LabelEncoder()\n",
        "\n",
        "signup_method_enc=test.signup_method\n",
        "test.signup_method=encode.fit_transform(signup_method_enc)\n",
        "\n",
        "affiliate_channel_enc=test.affiliate_channel\n",
        "test.affiliate_channel=encode.fit_transform(affiliate_channel_enc)\n",
        "\n",
        "affiliate_provider_enc=test.affiliate_provider\n",
        "test.affiliate_provider=encode.fit_transform(affiliate_provider_enc)\n",
        "\n",
        "signup_app_enc=test.signup_app\n",
        "test.signup_app=encode.fit_transform(signup_app_enc)\n",
        "\n",
        "first_device_type_enc=test.first_device_type\n",
        "test.first_device_type=encode.fit_transform(first_device_type_enc)\n",
        "\n",
        "first_browser_enc=test.first_browser\n",
        "test.first_browser=encode.fit_transform(first_browser_enc)\n",
        "\n",
        "gender_enc=test.gender\n",
        "test.gender=encode.fit_transform(gender_enc)\n",
        "\n",
        "first_affiliate_tracked_enc=test.first_affiliate_tracked\n",
        "test.first_affiliate_tracked=encode.fit_transform(first_affiliate_tracked_enc)\n",
        "\n",
        "language_enc=test.language\n",
        "test.language=encode.fit_transform(language_enc)\n",
        "\n",
        "dac_day_enc=test.language\n",
        "test.dac_day=encode.fit_transform(dac_day_enc)\n",
        "\n",
        "tfa_day_enc=test.language\n",
        "test.tfa_day=encode.fit_transform(tfa_day_enc)\n",
        "\n"
      ],
      "metadata": {
        "id": "Lu_s1BJJMa2E"
      },
      "execution_count": 247,
      "outputs": []
    },
    {
      "cell_type": "code",
      "source": [
        "#Standardizing the age column:\n",
        "from sklearn.preprocessing import StandardScaler\n",
        "\n",
        "st_cols= test[['age']]\n",
        "st_cols= pd.DataFrame(StandardScaler().fit_transform(st_cols), columns=['age'] )"
      ],
      "metadata": {
        "id": "jx64wwPkQtkb"
      },
      "execution_count": 248,
      "outputs": []
    },
    {
      "cell_type": "code",
      "source": [
        "Predictions = rfc.predict(test.drop(['id'],axis=1))\n",
        "Predictions = label_encoder.inverse_transform(Predictions)\n",
        "Predictions"
      ],
      "metadata": {
        "colab": {
          "base_uri": "https://localhost:8080/"
        },
        "id": "k9CsglOrBEok",
        "outputId": "ea7e0641-e226-4e24-ef3f-26f097fa6bb0"
      },
      "execution_count": 249,
      "outputs": [
        {
          "output_type": "execute_result",
          "data": {
            "text/plain": [
              "array(['US', 'US', 'US', ..., 'FR', 'US', 'US'], dtype=object)"
            ]
          },
          "metadata": {},
          "execution_count": 249
        }
      ]
    },
    {
      "cell_type": "code",
      "source": [
        "df2 = pd.DataFrame()\n",
        "\n",
        "df2['country_destination']=pd.Series(Predictions)\n",
        "\n",
        "df2['country_destination'].value_counts()"
      ],
      "metadata": {
        "colab": {
          "base_uri": "https://localhost:8080/"
        },
        "id": "Hw_JszeKNBvr",
        "outputId": "7cbe5a38-4eb5-43d6-aa44-9a2fbf196aff"
      },
      "execution_count": 250,
      "outputs": [
        {
          "output_type": "execute_result",
          "data": {
            "text/plain": [
              "US       54702\n",
              "other     2460\n",
              "FR         664\n",
              "GB         618\n",
              "ES         397\n",
              "IT         395\n",
              "NL         237\n",
              "DE         163\n",
              "CA         148\n",
              "AU         105\n",
              "PT           1\n",
              "Name: country_destination, dtype: int64"
            ]
          },
          "metadata": {},
          "execution_count": 250
        }
      ]
    },
    {
      "cell_type": "code",
      "source": [
        "test['country_destination']=Predictions\n"
      ],
      "metadata": {
        "id": "t1bWQd8rszfb"
      },
      "execution_count": 251,
      "outputs": []
    },
    {
      "cell_type": "code",
      "source": [
        "results=test[['id','country_destination']]\n",
        "results.head()"
      ],
      "metadata": {
        "colab": {
          "base_uri": "https://localhost:8080/",
          "height": 206
        },
        "id": "nlIWFewAtHN_",
        "outputId": "cf8ae68c-054e-442d-b944-0ee267e8cc47"
      },
      "execution_count": 252,
      "outputs": [
        {
          "output_type": "execute_result",
          "data": {
            "text/plain": [
              "           id country_destination\n",
              "2  4ft3gnwmtx                  US\n",
              "3  bjjt8pjhuk                  US\n",
              "6  lsw9q7uk0j                  US\n",
              "7  0d01nltbrs                  US\n",
              "8  a1vcnhxeij                  US"
            ],
            "text/html": [
              "\n",
              "  <div id=\"df-540b80de-368a-4208-ba3e-55480f7ab821\">\n",
              "    <div class=\"colab-df-container\">\n",
              "      <div>\n",
              "<style scoped>\n",
              "    .dataframe tbody tr th:only-of-type {\n",
              "        vertical-align: middle;\n",
              "    }\n",
              "\n",
              "    .dataframe tbody tr th {\n",
              "        vertical-align: top;\n",
              "    }\n",
              "\n",
              "    .dataframe thead th {\n",
              "        text-align: right;\n",
              "    }\n",
              "</style>\n",
              "<table border=\"1\" class=\"dataframe\">\n",
              "  <thead>\n",
              "    <tr style=\"text-align: right;\">\n",
              "      <th></th>\n",
              "      <th>id</th>\n",
              "      <th>country_destination</th>\n",
              "    </tr>\n",
              "  </thead>\n",
              "  <tbody>\n",
              "    <tr>\n",
              "      <th>2</th>\n",
              "      <td>4ft3gnwmtx</td>\n",
              "      <td>US</td>\n",
              "    </tr>\n",
              "    <tr>\n",
              "      <th>3</th>\n",
              "      <td>bjjt8pjhuk</td>\n",
              "      <td>US</td>\n",
              "    </tr>\n",
              "    <tr>\n",
              "      <th>6</th>\n",
              "      <td>lsw9q7uk0j</td>\n",
              "      <td>US</td>\n",
              "    </tr>\n",
              "    <tr>\n",
              "      <th>7</th>\n",
              "      <td>0d01nltbrs</td>\n",
              "      <td>US</td>\n",
              "    </tr>\n",
              "    <tr>\n",
              "      <th>8</th>\n",
              "      <td>a1vcnhxeij</td>\n",
              "      <td>US</td>\n",
              "    </tr>\n",
              "  </tbody>\n",
              "</table>\n",
              "</div>\n",
              "      <button class=\"colab-df-convert\" onclick=\"convertToInteractive('df-540b80de-368a-4208-ba3e-55480f7ab821')\"\n",
              "              title=\"Convert this dataframe to an interactive table.\"\n",
              "              style=\"display:none;\">\n",
              "        \n",
              "  <svg xmlns=\"http://www.w3.org/2000/svg\" height=\"24px\"viewBox=\"0 0 24 24\"\n",
              "       width=\"24px\">\n",
              "    <path d=\"M0 0h24v24H0V0z\" fill=\"none\"/>\n",
              "    <path d=\"M18.56 5.44l.94 2.06.94-2.06 2.06-.94-2.06-.94-.94-2.06-.94 2.06-2.06.94zm-11 1L8.5 8.5l.94-2.06 2.06-.94-2.06-.94L8.5 2.5l-.94 2.06-2.06.94zm10 10l.94 2.06.94-2.06 2.06-.94-2.06-.94-.94-2.06-.94 2.06-2.06.94z\"/><path d=\"M17.41 7.96l-1.37-1.37c-.4-.4-.92-.59-1.43-.59-.52 0-1.04.2-1.43.59L10.3 9.45l-7.72 7.72c-.78.78-.78 2.05 0 2.83L4 21.41c.39.39.9.59 1.41.59.51 0 1.02-.2 1.41-.59l7.78-7.78 2.81-2.81c.8-.78.8-2.07 0-2.86zM5.41 20L4 18.59l7.72-7.72 1.47 1.35L5.41 20z\"/>\n",
              "  </svg>\n",
              "      </button>\n",
              "      \n",
              "  <style>\n",
              "    .colab-df-container {\n",
              "      display:flex;\n",
              "      flex-wrap:wrap;\n",
              "      gap: 12px;\n",
              "    }\n",
              "\n",
              "    .colab-df-convert {\n",
              "      background-color: #E8F0FE;\n",
              "      border: none;\n",
              "      border-radius: 50%;\n",
              "      cursor: pointer;\n",
              "      display: none;\n",
              "      fill: #1967D2;\n",
              "      height: 32px;\n",
              "      padding: 0 0 0 0;\n",
              "      width: 32px;\n",
              "    }\n",
              "\n",
              "    .colab-df-convert:hover {\n",
              "      background-color: #E2EBFA;\n",
              "      box-shadow: 0px 1px 2px rgba(60, 64, 67, 0.3), 0px 1px 3px 1px rgba(60, 64, 67, 0.15);\n",
              "      fill: #174EA6;\n",
              "    }\n",
              "\n",
              "    [theme=dark] .colab-df-convert {\n",
              "      background-color: #3B4455;\n",
              "      fill: #D2E3FC;\n",
              "    }\n",
              "\n",
              "    [theme=dark] .colab-df-convert:hover {\n",
              "      background-color: #434B5C;\n",
              "      box-shadow: 0px 1px 3px 1px rgba(0, 0, 0, 0.15);\n",
              "      filter: drop-shadow(0px 1px 2px rgba(0, 0, 0, 0.3));\n",
              "      fill: #FFFFFF;\n",
              "    }\n",
              "  </style>\n",
              "\n",
              "      <script>\n",
              "        const buttonEl =\n",
              "          document.querySelector('#df-540b80de-368a-4208-ba3e-55480f7ab821 button.colab-df-convert');\n",
              "        buttonEl.style.display =\n",
              "          google.colab.kernel.accessAllowed ? 'block' : 'none';\n",
              "\n",
              "        async function convertToInteractive(key) {\n",
              "          const element = document.querySelector('#df-540b80de-368a-4208-ba3e-55480f7ab821');\n",
              "          const dataTable =\n",
              "            await google.colab.kernel.invokeFunction('convertToInteractive',\n",
              "                                                     [key], {});\n",
              "          if (!dataTable) return;\n",
              "\n",
              "          const docLinkHtml = 'Like what you see? Visit the ' +\n",
              "            '<a target=\"_blank\" href=https://colab.research.google.com/notebooks/data_table.ipynb>data table notebook</a>'\n",
              "            + ' to learn more about interactive tables.';\n",
              "          element.innerHTML = '';\n",
              "          dataTable['output_type'] = 'display_data';\n",
              "          await google.colab.output.renderOutput(dataTable, element);\n",
              "          const docLink = document.createElement('div');\n",
              "          docLink.innerHTML = docLinkHtml;\n",
              "          element.appendChild(docLink);\n",
              "        }\n",
              "      </script>\n",
              "    </div>\n",
              "  </div>\n",
              "  "
            ]
          },
          "metadata": {},
          "execution_count": 252
        }
      ]
    },
    {
      "cell_type": "code",
      "source": [
        "# Dividing data into X and y\n",
        "X_new= train.drop(['country_destination', 'id','language','tfa_day','dac_day','signup_app','affiliate_channel','first_device_type', 'gender'], axis = 1)\n",
        "y_new = train['country_destination']\n",
        "\n",
        "\n",
        "from sklearn.preprocessing import LabelEncoder\n",
        "label_encoder = LabelEncoder()\n",
        "encoded_y_new = label_encoder.fit_transform(y_new) #Transforming the target variable using labels\n",
        "encoded_y_new"
      ],
      "metadata": {
        "colab": {
          "base_uri": "https://localhost:8080/"
        },
        "id": "3OPs-Fq7aTQJ",
        "outputId": "45d00add-c8a3-474d-ce21-299b7fd5b3f5"
      },
      "execution_count": 253,
      "outputs": [
        {
          "output_type": "execute_result",
          "data": {
            "text/plain": [
              "array([ 9, 10,  9, ...,  3,  9,  9])"
            ]
          },
          "metadata": {},
          "execution_count": 253
        }
      ]
    },
    {
      "cell_type": "code",
      "source": [
        "#Standardizing the age column:\n",
        "from sklearn.preprocessing import StandardScaler\n",
        "\n",
        "st_cols= X[['age']]\n",
        "st_cols= pd.DataFrame(StandardScaler().fit_transform(st_cols), columns=['age'] )\n",
        "X_new['age'] = st_cols.values\n",
        "X_new['age']"
      ],
      "metadata": {
        "colab": {
          "base_uri": "https://localhost:8080/"
        },
        "id": "GuxRYm0pb6Fq",
        "outputId": "af700690-0b9f-4f54-e041-05358e88c9d8"
      },
      "execution_count": 254,
      "outputs": [
        {
          "output_type": "execute_result",
          "data": {
            "text/plain": [
              "2         0.055421\n",
              "3        -0.038382\n",
              "6        -0.011581\n",
              "7        -0.004881\n",
              "8         0.015219\n",
              "            ...   \n",
              "213412    0.015219\n",
              "213439   -0.031682\n",
              "213441   -0.091983\n",
              "213443   -0.078583\n",
              "213445   -0.165685\n",
              "Name: age, Length: 59890, dtype: float64"
            ]
          },
          "metadata": {},
          "execution_count": 254
        }
      ]
    },
    {
      "cell_type": "code",
      "source": [
        "from sklearn.model_selection import train_test_split\n",
        "X_trainn, X_testt, y_trainn, y_testt = train_test_split(X_new, encoded_y_new, test_size=0.25, random_state=42)"
      ],
      "metadata": {
        "id": "BJWJkqq1cN9S"
      },
      "execution_count": 255,
      "outputs": []
    },
    {
      "cell_type": "code",
      "source": [
        "from sklearn.ensemble import RandomForestClassifier\n",
        "\n",
        "rfc2= RandomForestClassifier(n_estimators=100)\n",
        "rfc2.fit(X_trainn,y_trainn)\n",
        "\n",
        "print(\"rfc2 Trained succesfully!\")\n"
      ],
      "metadata": {
        "colab": {
          "base_uri": "https://localhost:8080/"
        },
        "id": "bkMYfBjLcZhr",
        "outputId": "3552a9e4-4c87-4a2d-bbdb-d2fbc65566dd"
      },
      "execution_count": 256,
      "outputs": [
        {
          "output_type": "stream",
          "name": "stdout",
          "text": [
            "rfc2 Trained succesfully!\n"
          ]
        }
      ]
    },
    {
      "cell_type": "code",
      "source": [
        "y_pred6=rfc2.predict(X_testt)\n",
        "y_pred6\n"
      ],
      "metadata": {
        "colab": {
          "base_uri": "https://localhost:8080/"
        },
        "id": "3r-8mWFxckuM",
        "outputId": "12318e57-4bc3-4c68-a418-5af5dd472d86"
      },
      "execution_count": 257,
      "outputs": [
        {
          "output_type": "execute_result",
          "data": {
            "text/plain": [
              "array([9, 9, 9, ..., 9, 1, 9])"
            ]
          },
          "metadata": {},
          "execution_count": 257
        }
      ]
    },
    {
      "cell_type": "code",
      "source": [
        "precision_score(y_testt, y_pred6, average='weighted')\n",
        "#0.5224609823706048"
      ],
      "metadata": {
        "colab": {
          "base_uri": "https://localhost:8080/"
        },
        "id": "8jF7W1m0X7AF",
        "outputId": "c26bd3c2-1afb-4897-d7a8-88ca6c3e2546"
      },
      "execution_count": 258,
      "outputs": [
        {
          "output_type": "execute_result",
          "data": {
            "text/plain": [
              "0.5217693421247391"
            ]
          },
          "metadata": {},
          "execution_count": 258
        }
      ]
    },
    {
      "cell_type": "code",
      "source": [
        "print('Accuracy of rfc2:',  accuracy_score(y_testt, y_pred6))"
      ],
      "metadata": {
        "colab": {
          "base_uri": "https://localhost:8080/"
        },
        "id": "IqRpTasNcl3Y",
        "outputId": "927dff5d-c784-4603-ce1f-29668e6aa909"
      },
      "execution_count": 259,
      "outputs": [
        {
          "output_type": "stream",
          "name": "stdout",
          "text": [
            "Accuracy of rfc2: 0.6304013891671676\n"
          ]
        }
      ]
    },
    {
      "cell_type": "code",
      "source": [
        "from sklearn.metrics import classification_report\n",
        "\n",
        "print(classification_report(y_test,y_pred6))\n"
      ],
      "metadata": {
        "colab": {
          "base_uri": "https://localhost:8080/"
        },
        "id": "3SRaysfBFVvg",
        "outputId": "9d0dc6f1-62f2-4008-b282-0cd48b000cb5"
      },
      "execution_count": 260,
      "outputs": [
        {
          "output_type": "stream",
          "name": "stdout",
          "text": [
            "              precision    recall  f1-score   support\n",
            "\n",
            "           0       0.02      0.01      0.01       101\n",
            "           1       0.01      0.00      0.01       241\n",
            "           2       0.02      0.00      0.01       205\n",
            "           3       0.02      0.01      0.01       363\n",
            "           4       0.07      0.03      0.04       840\n",
            "           5       0.06      0.02      0.03       385\n",
            "           6       0.04      0.02      0.02       447\n",
            "           7       0.03      0.02      0.02       127\n",
            "           8       0.00      0.00      0.00        44\n",
            "           9       0.71      0.88      0.78     10632\n",
            "          10       0.09      0.04      0.06      1588\n",
            "\n",
            "    accuracy                           0.63     14973\n",
            "   macro avg       0.10      0.09      0.09     14973\n",
            "weighted avg       0.52      0.63      0.57     14973\n",
            "\n"
          ]
        }
      ]
    },
    {
      "cell_type": "code",
      "source": [],
      "metadata": {
        "id": "ucI28P9VFXr3"
      },
      "execution_count": 260,
      "outputs": []
    }
  ]
}